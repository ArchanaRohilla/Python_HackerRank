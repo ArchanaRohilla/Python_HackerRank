{
 "cells": [
  {
   "cell_type": "code",
   "execution_count": 1,
   "metadata": {},
   "outputs": [],
   "source": [
    "import pandas as pd\n",
    "import numpy as np"
   ]
  },
  {
   "cell_type": "code",
   "execution_count": 3,
   "metadata": {},
   "outputs": [],
   "source": [
    "#Defining a tuple\n",
    "dimensions = (800, 600)"
   ]
  },
  {
   "cell_type": "code",
   "execution_count": 5,
   "metadata": {},
   "outputs": [
    {
     "name": "stdout",
     "output_type": "stream",
     "text": [
      "800\n",
      "600\n"
     ]
    }
   ],
   "source": [
    "#Looping through a tuple\n",
    "for dimension in dimensions:\n",
    "    print(dimension)"
   ]
  },
  {
   "cell_type": "code",
   "execution_count": 7,
   "metadata": {},
   "outputs": [
    {
     "name": "stdout",
     "output_type": "stream",
     "text": [
      "(800, 600)\n",
      "(1200, 900)\n"
     ]
    }
   ],
   "source": [
    "#Overwriting a tuple\n",
    "dimensions = (800, 600)\n",
    "print(dimensions)\n",
    "\n",
    "dimensions = (1200, 900)\n",
    "print(dimensions)\n"
   ]
  },
  {
   "cell_type": "code",
   "execution_count": 9,
   "metadata": {},
   "outputs": [
    {
     "name": "stdout",
     "output_type": "stream",
     "text": [
      "['willie', 'hootz', 'peso', 'goblin']\n"
     ]
    }
   ],
   "source": [
    "#Build a list and print the items in the list\n",
    "dogs = []\n",
    "dogs.append('willie')\n",
    "dogs.append('hootz')\n",
    "dogs.append('peso')\n",
    "dogs.append('goblin')\n",
    "print(dogs)"
   ]
  },
  {
   "cell_type": "code",
   "execution_count": 11,
   "metadata": {},
   "outputs": [
    {
     "name": "stdout",
     "output_type": "stream",
     "text": [
      "Hello willie!\n",
      "Hello hootz!\n",
      "Hello peso!\n",
      "Hello goblin!\n",
      "I love these dogs!\n"
     ]
    }
   ],
   "source": [
    "for dog in dogs:\n",
    "    print(\"Hello \" + dog + \"!\")\n",
    "print(\"I love these dogs!\")"
   ]
  },
  {
   "cell_type": "code",
   "execution_count": 15,
   "metadata": {},
   "outputs": [
    {
     "name": "stdout",
     "output_type": "stream",
     "text": [
      "\n",
      "These were my first two dogs:\n",
      "willie\n",
      "hootz\n"
     ]
    }
   ],
   "source": [
    "print(\"\\nThese were my first two dogs:\")\n",
    "old_dogs = dogs[:2]\n",
    "for old_dog in old_dogs:\n",
    "    print(old_dog)"
   ]
  },
  {
   "cell_type": "code",
   "execution_count": 16,
   "metadata": {},
   "outputs": [
    {
     "name": "stdout",
     "output_type": "stream",
     "text": [
      "['hootz', 'peso', 'goblin']\n",
      "['hootz', 'goblin']\n"
     ]
    }
   ],
   "source": [
    "del dogs[0]\n",
    "print(dogs)\n",
    "dogs.remove('peso')\n",
    "print(dogs)"
   ]
  },
  {
   "cell_type": "code",
   "execution_count": 17,
   "metadata": {},
   "outputs": [
    {
     "name": "stdout",
     "output_type": "stream",
     "text": [
      "green\n",
      "5\n"
     ]
    }
   ],
   "source": [
    "alien_0 = {'color': 'green', 'points': 5}\n",
    "print(alien_0['color'])\n",
    "print(alien_0['points'])\n"
   ]
  },
  {
   "cell_type": "code",
   "execution_count": 18,
   "metadata": {},
   "outputs": [
    {
     "name": "stdout",
     "output_type": "stream",
     "text": [
      "green\n",
      "0\n"
     ]
    }
   ],
   "source": [
    "alien_0 = {'color': 'green'}\n",
    "alien_color = alien_0.get('color')\n",
    "alien_points = alien_0.get('points', 0)\n",
    "print(alien_color)\n",
    "print(alien_points)"
   ]
  },
  {
   "cell_type": "code",
   "execution_count": 20,
   "metadata": {},
   "outputs": [
    {
     "name": "stdout",
     "output_type": "stream",
     "text": [
      "{'color': 'green', 'points': 5, 'x': 0, 'y': 25, 'speed': 1.5}\n"
     ]
    }
   ],
   "source": [
    "alien_0 = {'color': 'green', 'points': 5}\n",
    "alien_0['x'] = 0\n",
    "alien_0['y'] = 25\n",
    "alien_0['speed'] = 1.5\n",
    "print(alien_0)"
   ]
  },
  {
   "cell_type": "code",
   "execution_count": 22,
   "metadata": {},
   "outputs": [
    {
     "name": "stdout",
     "output_type": "stream",
     "text": [
      "{'color': 'green', 'points': 5}\n"
     ]
    }
   ],
   "source": [
    "alien_0 = {}\n",
    "alien_0['color'] = 'green'\n",
    "alien_0['points'] = 5\n",
    "print(alien_0)"
   ]
  },
  {
   "cell_type": "code",
   "execution_count": 23,
   "metadata": {},
   "outputs": [
    {
     "name": "stdout",
     "output_type": "stream",
     "text": [
      "{'color': 'green', 'points': 5}\n",
      "{'color': 'yellow', 'points': 10}\n"
     ]
    }
   ],
   "source": [
    "alien_0 = {'color': 'green', 'points': 5}\n",
    "print(alien_0)\n",
    "# Change the alien's color and point value.\n",
    "alien_0['color'] = 'yellow'\n",
    "alien_0['points'] = 10\n",
    "print(alien_0)\n"
   ]
  },
  {
   "cell_type": "code",
   "execution_count": 25,
   "metadata": {},
   "outputs": [
    {
     "name": "stdout",
     "output_type": "stream",
     "text": [
      "{'color': 'green', 'points': 5}\n",
      "{'color': 'green'}\n"
     ]
    }
   ],
   "source": [
    "alien_0 = {'color': 'green', 'points': 5}\n",
    "print(alien_0)\n",
    "del alien_0['points']\n",
    "print(alien_0)"
   ]
  },
  {
   "cell_type": "code",
   "execution_count": 27,
   "metadata": {},
   "outputs": [
    {
     "name": "stdout",
     "output_type": "stream",
     "text": [
      "[1, 4, 9, 16, 25, 36, 49, 64, 81, 100]\n"
     ]
    }
   ],
   "source": [
    "squares = [x**2 for x in range(1, 11)]\n",
    "print(squares)"
   ]
  },
  {
   "cell_type": "code",
   "execution_count": 38,
   "metadata": {},
   "outputs": [
    {
     "name": "stdout",
     "output_type": "stream",
     "text": [
      "jen: python\n",
      "sarah: c\n",
      "edward: ruby\n",
      "phil: python\n",
      "['edward', 'jen', 'phil', 'sarah']\n"
     ]
    }
   ],
   "source": [
    "#Looping through all key-value pairs\n",
    "# Store people's favorite languages.\n",
    "fav_languages = {\n",
    " 'jen': 'python',\n",
    " 'sarah': 'c',\n",
    " 'edward': 'ruby',\n",
    " 'phil': 'python',\n",
    " }\n",
    "# Show each person's favorite language.\n",
    "for name, language in fav_languages.items():\n",
    "    print(name + \": \" + language)\n",
    "print(sorted(fav_languages))"
   ]
  },
  {
   "cell_type": "code",
   "execution_count": 29,
   "metadata": {},
   "outputs": [
    {
     "name": "stdout",
     "output_type": "stream",
     "text": [
      "jen\n",
      "sarah\n",
      "edward\n",
      "phil\n"
     ]
    }
   ],
   "source": [
    "#Looping through all the keys\n",
    "# Show everyone who's taken the survey.\n",
    "for name in fav_languages.keys():\n",
    "    print(name)"
   ]
  },
  {
   "cell_type": "code",
   "execution_count": 30,
   "metadata": {},
   "outputs": [
    {
     "name": "stdout",
     "output_type": "stream",
     "text": [
      "python\n",
      "c\n",
      "ruby\n",
      "python\n"
     ]
    }
   ],
   "source": [
    "#Looping through all the values\n",
    "# Show all the languages that have been chosen.\n",
    "for language in fav_languages.values():\n",
    "    print(language)\n"
   ]
  },
  {
   "cell_type": "code",
   "execution_count": 31,
   "metadata": {},
   "outputs": [
    {
     "name": "stdout",
     "output_type": "stream",
     "text": [
      "edward: python\n",
      "jen: python\n",
      "phil: python\n",
      "sarah: python\n"
     ]
    }
   ],
   "source": [
    "#Looping through all the keys in order\n",
    "# Show each person's favorite language, in order by the person's name.\n",
    "for name in sorted(fav_languages.keys()):\n",
    "    print(name + \": \" + language)\n"
   ]
  },
  {
   "cell_type": "code",
   "execution_count": 42,
   "metadata": {},
   "outputs": [
    {
     "name": "stdout",
     "output_type": "stream",
     "text": [
      "4\n"
     ]
    }
   ],
   "source": [
    "##Finding a dictionary's length\n",
    "num_responses = len(fav_languages)\n",
    "print(num_responses)"
   ]
  },
  {
   "cell_type": "code",
   "execution_count": 51,
   "metadata": {},
   "outputs": [
    {
     "name": "stdout",
     "output_type": "stream",
     "text": [
      "[{'last': 'fermi', 'first': 'enrico', 'username': 'efermi'}]\n"
     ]
    }
   ],
   "source": [
    "#Storing dictionaries in a list\n",
    "# Start with an empty list.\n",
    "users = []\n",
    "# Make a new user, and add them to the list.\n",
    "new_user = {\n",
    " 'last': 'fermi',\n",
    " 'first': 'enrico',\n",
    " 'username': 'efermi',\n",
    " }\n",
    "users.append(new_user)\n",
    "print(users)"
   ]
  },
  {
   "cell_type": "code",
   "execution_count": 52,
   "metadata": {},
   "outputs": [
    {
     "name": "stdout",
     "output_type": "stream",
     "text": [
      "[{'last': 'fermi', 'first': 'enrico', 'username': 'efermi'}, {'last': 'curie', 'first': 'marie', 'username': 'mcurie'}]\n"
     ]
    }
   ],
   "source": [
    "# Make another new user, and add them as well.\n",
    "new_user = {\n",
    " 'last': 'curie',\n",
    " 'first': 'marie',\n",
    " 'username': 'mcurie',\n",
    " }\n",
    "users.append(new_user)\n",
    "print(users)"
   ]
  },
  {
   "cell_type": "code",
   "execution_count": 53,
   "metadata": {},
   "outputs": [
    {
     "name": "stdout",
     "output_type": "stream",
     "text": [
      "last: fermi\n",
      "first: enrico\n",
      "username: efermi\n",
      "\n",
      "\n",
      "last: curie\n",
      "first: marie\n",
      "username: mcurie\n",
      "\n",
      "\n"
     ]
    }
   ],
   "source": [
    "# Show all information about each user.\n",
    "for user_dict in users:\n",
    "    for k, v in user_dict.items():\n",
    "         print(k + \": \" + v)\n",
    "    print(\"\\n\") "
   ]
  },
  {
   "cell_type": "code",
   "execution_count": 54,
   "metadata": {},
   "outputs": [
    {
     "name": "stdout",
     "output_type": "stream",
     "text": [
      "last: fermi\n",
      "first: enrico\n",
      "username: efermi\n",
      "\n",
      "\n",
      "last: curie\n",
      "first: marie\n",
      "username: mcurie\n",
      "\n",
      "\n"
     ]
    }
   ],
   "source": [
    "# Define a list of users, where each user\n",
    "# is represented by a dictionary.\n",
    "users = [\n",
    " {\n",
    " 'last': 'fermi',\n",
    " 'first': 'enrico',\n",
    " 'username': 'efermi',\n",
    " },\n",
    " {\n",
    " 'last': 'curie',\n",
    " 'first': 'marie',\n",
    " 'username': 'mcurie',\n",
    " },\n",
    "]\n",
    "# Show all information about each user.\n",
    "for user_dict in users:\n",
    "    for k, v in user_dict.items():\n",
    "        print(k + \": \" + v)\n",
    "    print(\"\\n\")"
   ]
  },
  {
   "cell_type": "code",
   "execution_count": 56,
   "metadata": {},
   "outputs": [
    {
     "name": "stdout",
     "output_type": "stream",
     "text": [
      "jen: \n",
      "- python\n",
      "- ruby\n",
      "sarah: \n",
      "- c\n",
      "edward: \n",
      "- ruby\n",
      "- go\n",
      "phil: \n",
      "- python\n",
      "- haskell\n"
     ]
    }
   ],
   "source": [
    "#Storing lists in a dictionary\n",
    "# Store multiple languages for each person.\n",
    "fav_languages = {\n",
    " 'jen': ['python', 'ruby'],\n",
    " 'sarah': ['c'],\n",
    " 'edward': ['ruby', 'go'],\n",
    " 'phil': ['python', 'haskell'],\n",
    "}\n",
    "# Show all responses for each person.\n",
    "for name, langs in fav_languages.items():\n",
    "    print(name + \": \")\n",
    "    for lang in langs:\n",
    "        print(\"- \" + lang)"
   ]
  },
  {
   "cell_type": "code",
   "execution_count": 57,
   "metadata": {},
   "outputs": [
    {
     "name": "stdout",
     "output_type": "stream",
     "text": [
      "\n",
      "Username: aeinstein\n",
      "\tFull name: Albert Einstein\n",
      "\tLocation: Princeton\n",
      "\n",
      "Username: mcurie\n",
      "\tFull name: Marie Curie\n",
      "\tLocation: Paris\n"
     ]
    }
   ],
   "source": [
    "#Storing dictionaries in a dictionary\n",
    "users = {\n",
    " 'aeinstein': {\n",
    " 'first': 'albert',\n",
    " 'last': 'einstein',\n",
    " 'location': 'princeton',\n",
    " },\n",
    " 'mcurie': {\n",
    " 'first': 'marie',\n",
    " 'last': 'curie',\n",
    " 'location': 'paris',\n",
    " },\n",
    " }\n",
    "for username, user_dict in users.items():\n",
    "    print(\"\\nUsername: \" + username)\n",
    "    full_name = user_dict['first'] + \" \"\n",
    "    full_name += user_dict['last']\n",
    "    location = user_dict['location']\n",
    "    \n",
    "    print(\"\\tFull name: \" + full_name.title())\n",
    "    print(\"\\tLocation: \" + location.title())\n"
   ]
  },
  {
   "cell_type": "code",
   "execution_count": 58,
   "metadata": {},
   "outputs": [
    {
     "name": "stdout",
     "output_type": "stream",
     "text": [
      "jen:\n",
      "- python\n",
      "- ruby\n",
      "sarah:\n",
      "- c\n",
      "edward:\n",
      "- ruby\n",
      "- go\n",
      "phil:\n",
      "- python\n",
      "- haskell\n"
     ]
    }
   ],
   "source": [
    "#Preserving the order of keys and values\n",
    "from collections import OrderedDict\n",
    "# Store each person's languages, keeping\n",
    "# track of who respoded first.\n",
    "fav_languages = OrderedDict()\n",
    "fav_languages['jen'] = ['python', 'ruby']\n",
    "fav_languages['sarah'] = ['c']\n",
    "fav_languages['edward'] = ['ruby', 'go']\n",
    "fav_languages['phil'] = ['python', 'haskell']\n",
    "# Display the results, in the same order they\n",
    "# were entered.\n",
    "for name, langs in fav_languages.items():\n",
    "    print(name + \":\")\n",
    "    for lang in langs:\n",
    "        print(\"- \" + lang)"
   ]
  },
  {
   "cell_type": "code",
   "execution_count": 59,
   "metadata": {},
   "outputs": [
    {
     "name": "stdout",
     "output_type": "stream",
     "text": [
      "Number of aliens created:\n",
      "1000000\n"
     ]
    }
   ],
   "source": [
    "#A million aliens\n",
    "aliens = []\n",
    "# Make a million green aliens, worth 5 points\n",
    "# each. Have them all start in one row.\n",
    "for alien_num in range(1000000):\n",
    "    new_alien = {}\n",
    "    new_alien['color'] = 'green'\n",
    "    new_alien['points'] = 5\n",
    "    new_alien['x'] = 20 * alien_num\n",
    "    new_alien['y'] = 0\n",
    "    aliens.append(new_alien)\n",
    "    \n",
    "# Prove the list contains a million aliens.\n",
    "num_aliens = len(aliens)\n",
    "print(\"Number of aliens created:\")\n",
    "print(num_aliens)"
   ]
  },
  {
   "cell_type": "code",
   "execution_count": 61,
   "metadata": {},
   "outputs": [
    {
     "data": {
      "text/plain": [
       "True"
      ]
     },
     "execution_count": 61,
     "metadata": {},
     "output_type": "execute_result"
    }
   ],
   "source": [
    "car = 'bmw'\n",
    "car == 'bmw'"
   ]
  },
  {
   "cell_type": "code",
   "execution_count": 62,
   "metadata": {},
   "outputs": [
    {
     "data": {
      "text/plain": [
       "False"
      ]
     },
     "execution_count": 62,
     "metadata": {},
     "output_type": "execute_result"
    }
   ],
   "source": [
    "car = 'audi'\n",
    "car == 'bmw'"
   ]
  },
  {
   "cell_type": "code",
   "execution_count": 63,
   "metadata": {},
   "outputs": [
    {
     "data": {
      "text/plain": [
       "True"
      ]
     },
     "execution_count": 63,
     "metadata": {},
     "output_type": "execute_result"
    }
   ],
   "source": [
    " car = 'Audi'\n",
    "car.lower() == 'audi'"
   ]
  },
  {
   "cell_type": "code",
   "execution_count": 2,
   "metadata": {},
   "outputs": [
    {
     "data": {
      "text/plain": [
       "True"
      ]
     },
     "execution_count": 2,
     "metadata": {},
     "output_type": "execute_result"
    }
   ],
   "source": [
    " topping = 'mushrooms'\n",
    "topping != 'anchovies'"
   ]
  },
  {
   "cell_type": "code",
   "execution_count": 65,
   "metadata": {},
   "outputs": [
    {
     "name": "stdout",
     "output_type": "stream",
     "text": [
      "Your cost is $5.\n"
     ]
    }
   ],
   "source": [
    "#The if-elif-else chain\n",
    "age = 12\n",
    "if age < 4:\n",
    "    price = 0\n",
    "elif age < 18:\n",
    "    price = 5\n",
    "else:\n",
    "    price = 10\n",
    "print(\"Your cost is $\" + str(price) + \".\")"
   ]
  },
  {
   "cell_type": "code",
   "execution_count": 66,
   "metadata": {},
   "outputs": [
    {
     "data": {
      "text/plain": [
       "True"
      ]
     },
     "execution_count": 66,
     "metadata": {},
     "output_type": "execute_result"
    }
   ],
   "source": [
    "#Testing if a value is in a list\n",
    "players = ['al', 'bea', 'cyn', 'dale']\n",
    "'al' in players"
   ]
  },
  {
   "cell_type": "code",
   "execution_count": 67,
   "metadata": {},
   "outputs": [
    {
     "data": {
      "text/plain": [
       "False"
      ]
     },
     "execution_count": 67,
     "metadata": {},
     "output_type": "execute_result"
    }
   ],
   "source": [
    "'eric' in players"
   ]
  },
  {
   "cell_type": "code",
   "execution_count": 68,
   "metadata": {},
   "outputs": [
    {
     "name": "stdout",
     "output_type": "stream",
     "text": [
      "You can play!\n"
     ]
    }
   ],
   "source": [
    "banned_users = ['ann', 'chad', 'dee']\n",
    "user = 'erin'\n",
    "if user not in banned_users:\n",
    "    print(\"You can play!\")"
   ]
  },
  {
   "cell_type": "code",
   "execution_count": 71,
   "metadata": {},
   "outputs": [
    {
     "name": "stdout",
     "output_type": "stream",
     "text": [
      "We have no players yet!\n"
     ]
    }
   ],
   "source": [
    "#Checking if a list is empty\n",
    "players = []\n",
    "if players:\n",
    "    for player in players:\n",
    "        print(\"Player: \" + player.title())\n",
    "else:\n",
    "    print(\"We have no players yet!\") "
   ]
  },
  {
   "cell_type": "code",
   "execution_count": 73,
   "metadata": {},
   "outputs": [
    {
     "name": "stdout",
     "output_type": "stream",
     "text": [
      "What's your name? shaivi\n",
      "Hello, shaivi.\n"
     ]
    }
   ],
   "source": [
    "name = input(\"What's your name? \")\n",
    "print(\"Hello, \" + name + \".\")"
   ]
  },
  {
   "cell_type": "code",
   "execution_count": 75,
   "metadata": {},
   "outputs": [
    {
     "name": "stdout",
     "output_type": "stream",
     "text": [
      "How old are you? 2\n",
      "\n",
      "You can't vote yet.\n"
     ]
    }
   ],
   "source": [
    "age = input(\"How old are you? \")\n",
    "age = int(age)\n",
    "if age >= 18:\n",
    "    print(\"\\nYou can vote!\")\n",
    "else:\n",
    "    print(\"\\nYou can't vote yet.\") "
   ]
  },
  {
   "cell_type": "code",
   "execution_count": 76,
   "metadata": {},
   "outputs": [
    {
     "name": "stdout",
     "output_type": "stream",
     "text": [
      "1\n",
      "2\n",
      "3\n",
      "4\n",
      "5\n"
     ]
    }
   ],
   "source": [
    "current_number = 1\n",
    "while current_number <= 5:\n",
    "    print(current_number)\n",
    "    current_number += 1"
   ]
  },
  {
   "cell_type": "code",
   "execution_count": 77,
   "metadata": {},
   "outputs": [
    {
     "name": "stdout",
     "output_type": "stream",
     "text": [
      "\n",
      "Tell me something, and I'll repeat it back to you.\n",
      "Enter 'quit' to end the program. hi\n",
      "hi\n",
      "\n",
      "Tell me something, and I'll repeat it back to you.\n",
      "Enter 'quit' to end the program. quit\n"
     ]
    }
   ],
   "source": [
    "#Letting the user choose when to quit\n",
    "prompt = \"\\nTell me something, and I'll \"\n",
    "prompt += \"repeat it back to you.\"\n",
    "prompt += \"\\nEnter 'quit' to end the program. \"\n",
    "message = \"\"\n",
    "while message != 'quit':\n",
    "    message = input(prompt)\n",
    "    if message != 'quit':\n",
    "        print(message)"
   ]
  },
  {
   "cell_type": "code",
   "execution_count": 78,
   "metadata": {},
   "outputs": [
    {
     "name": "stdout",
     "output_type": "stream",
     "text": [
      "\n",
      "Tell me something, and I'll repeat it back to you.\n",
      "Enter 'quit' to end the program. hi\n",
      "hi\n",
      "\n",
      "Tell me something, and I'll repeat it back to you.\n",
      "Enter 'quit' to end the program. quit\n"
     ]
    }
   ],
   "source": [
    "#Using a flag\n",
    "prompt = \"\\nTell me something, and I'll \"\n",
    "prompt += \"repeat it back to you.\"\n",
    "prompt += \"\\nEnter 'quit' to end the program. \"\n",
    "active = True\n",
    "while active:\n",
    "    message = input(prompt)\n",
    "    if message == 'quit':\n",
    "        active = False\n",
    "    else:\n",
    "         print(message)"
   ]
  },
  {
   "cell_type": "code",
   "execution_count": 79,
   "metadata": {},
   "outputs": [
    {
     "name": "stdout",
     "output_type": "stream",
     "text": [
      "\n",
      "What cities have you visited?\n",
      "Enter 'quit' when you're done. a\n",
      "I've been to a!\n",
      "\n",
      "What cities have you visited?\n",
      "Enter 'quit' when you're done. b\n",
      "I've been to b!\n",
      "\n",
      "What cities have you visited?\n",
      "Enter 'quit' when you're done. c\n",
      "I've been to c!\n",
      "\n",
      "What cities have you visited?\n",
      "Enter 'quit' when you're done. quit\n"
     ]
    }
   ],
   "source": [
    "#Using break to exit a loop\n",
    "prompt = \"\\nWhat cities have you visited?\"\n",
    "prompt += \"\\nEnter 'quit' when you're done. \"\n",
    "while True:\n",
    "    city = input(prompt)\n",
    "    if city == 'quit':\n",
    "        break\n",
    "    else:\n",
    "        print(\"I've been to \" + city + \"!\")"
   ]
  },
  {
   "cell_type": "code",
   "execution_count": 3,
   "metadata": {},
   "outputs": [
    {
     "name": "stdout",
     "output_type": "stream",
     "text": [
      "Hello!\n"
     ]
    }
   ],
   "source": [
    "def greet_user():\n",
    " \"\"\"Display a simple greeting.\"\"\"\n",
    " print(\"Hello!\")\n",
    "greet_user()"
   ]
  },
  {
   "cell_type": "code",
   "execution_count": 4,
   "metadata": {},
   "outputs": [
    {
     "name": "stdout",
     "output_type": "stream",
     "text": [
      "Hello, jesse!\n",
      "Hello, diana!\n",
      "Hello, brandon!\n"
     ]
    }
   ],
   "source": [
    "#Passing a single argument\n",
    "def greet_user(username):\n",
    " \"\"\"Display a simple greeting.\"\"\"\n",
    " print(\"Hello, \" + username + \"!\")\n",
    "greet_user('jesse')\n",
    "greet_user('diana')\n",
    "greet_user('brandon')"
   ]
  },
  {
   "cell_type": "code",
   "execution_count": 1,
   "metadata": {},
   "outputs": [
    {
     "name": "stdout",
     "output_type": "stream",
     "text": [
      "\n",
      "I have a hamster.\n",
      "Its name is harry.\n",
      "\n",
      "I have a dog.\n",
      "Its name is willie.\n"
     ]
    }
   ],
   "source": [
    "#Using positional arguments\n",
    "def describe_pet(animal, name):\n",
    " \"\"\"Display information about a pet.\"\"\"\n",
    "    print(\"\\nI have a \" + animal + \".\")\n",
    "    print(\"Its name is \" + name + \".\")\n",
    "describe_pet('hamster', 'harry')\n",
    "describe_pet('dog', 'willie')"
   ]
  },
  {
   "cell_type": "code",
   "execution_count": 14,
   "metadata": {},
   "outputs": [
    {
     "name": "stdout",
     "output_type": "stream",
     "text": [
      "\n",
      "I have a hamster.\n",
      "Its name is harry.\n",
      "\n",
      "I have a dog.\n",
      "Its name is willie.\n"
     ]
    }
   ],
   "source": [
    "#Using keyword arguments\n",
    "def describe_pet(animal, name):\n",
    "    print(\"\\nI have a \" + animal + \".\")\n",
    "    print(\"Its name is \" + name + \".\")\n",
    "    \n",
    "describe_pet(animal='hamster', name='harry')\n",
    "describe_pet(name='willie', animal='dog')\n"
   ]
  },
  {
   "cell_type": "code",
   "execution_count": 16,
   "metadata": {},
   "outputs": [
    {
     "name": "stdout",
     "output_type": "stream",
     "text": [
      "\n",
      "I have a hamster.\n",
      "Its name is harry.\n",
      "\n",
      "I have a dog.\n",
      "Its name is willie.\n"
     ]
    }
   ],
   "source": [
    "#Using a default value\n",
    "def describe_pet(name, animal='dog'):\n",
    " \n",
    "    print(\"\\nI have a \" + animal + \".\")\n",
    "    print(\"Its name is \" + name + \".\")\n",
    "describe_pet('harry', 'hamster')\n",
    "describe_pet('willie')"
   ]
  },
  {
   "cell_type": "code",
   "execution_count": 17,
   "metadata": {},
   "outputs": [
    {
     "name": "stdout",
     "output_type": "stream",
     "text": [
      "\n",
      "I have a hamster.\n",
      "Its name is harry.\n",
      "\n",
      "I have a snake.\n"
     ]
    }
   ],
   "source": [
    "#Using None to make an argument optional\n",
    "def describe_pet(animal, name=None):\n",
    " \n",
    "    print(\"\\nI have a \" + animal + \".\")\n",
    "    if name:\n",
    "        print(\"Its name is \" + name + \".\")\n",
    "describe_pet('hamster', 'harry')\n",
    "describe_pet('snake')"
   ]
  },
  {
   "cell_type": "code",
   "execution_count": 22,
   "metadata": {},
   "outputs": [
    {
     "name": "stdout",
     "output_type": "stream",
     "text": [
      "Jimi Hendrix\n"
     ]
    }
   ],
   "source": [
    "#Returning a single value\n",
    "def get_full_name(first, last):\n",
    "    \"\"\"Return a neatly formatted full name.\"\"\"\n",
    "    full_name = first + ' ' + last\n",
    "    return full_name.title()\n",
    "musician = get_full_name('jimi', 'hendrix')\n",
    "print(musician)"
   ]
  },
  {
   "cell_type": "code",
   "execution_count": 23,
   "metadata": {},
   "outputs": [
    {
     "name": "stdout",
     "output_type": "stream",
     "text": [
      "{'first': 'jimi', 'last': 'hendrix'}\n"
     ]
    }
   ],
   "source": [
    "#Returning a dictionary\n",
    "def build_person(first, last):\n",
    "    \"\"\"Return a dictionary of information about a person.\"\"\"\n",
    "    person = {'first': first, 'last': last}\n",
    "    return person\n",
    "musician = build_person('jimi', 'hendrix')\n",
    "print(musician)"
   ]
  },
  {
   "cell_type": "code",
   "execution_count": 24,
   "metadata": {},
   "outputs": [
    {
     "name": "stdout",
     "output_type": "stream",
     "text": [
      "{'first': 'jimi', 'last': 'hendrix', 'age': 27}\n",
      "{'first': 'janis', 'last': 'joplin'}\n"
     ]
    }
   ],
   "source": [
    "#Returning a dictionary with optional values\n",
    "def build_person(first, last, age=None):\n",
    "    \"\"\"Return a dictionary of information about a person.\"\"\"\n",
    "    person = {'first': first, 'last': last}\n",
    "    if age:\n",
    "        person['age'] = age\n",
    "    return person\n",
    "musician = build_person('jimi', 'hendrix', 27)\n",
    "print(musician)\n",
    "musician = build_person('janis', 'joplin')\n",
    "print(musician)\n"
   ]
  },
  {
   "cell_type": "code",
   "execution_count": 25,
   "metadata": {},
   "outputs": [
    {
     "name": "stdout",
     "output_type": "stream",
     "text": [
      "Hello, hannah!\n",
      "Hello, ty!\n",
      "Hello, margot!\n"
     ]
    }
   ],
   "source": [
    "# Passing a list as an argument\n",
    "def greet_users(names):\n",
    "    \"\"\"Print a simple greeting to everyone.\"\"\"\n",
    "    for name in names:\n",
    "        msg = \"Hello, \" + name + \"!\"\n",
    "        print(msg)\n",
    "usernames = ['hannah', 'ty', 'margot']\n",
    "greet_users(usernames)\n"
   ]
  },
  {
   "cell_type": "code",
   "execution_count": 27,
   "metadata": {},
   "outputs": [
    {
     "name": "stdout",
     "output_type": "stream",
     "text": [
      "Printing ring\n",
      "Printing pendant\n",
      "Printing phone case\n",
      "\n",
      "Unprinted: []\n",
      "Printed: ['ring', 'pendant', 'phone case']\n"
     ]
    }
   ],
   "source": [
    "#Allowing a function to modify a list\n",
    "def print_models(unprinted, printed):\n",
    "    \"\"\"3d print a set of models.\"\"\"\n",
    "    while unprinted:\n",
    "        current_model = unprinted.pop()\n",
    "        print(\"Printing \" + current_model)\n",
    "        printed.append(current_model)\n",
    "# Store some unprinted designs,\n",
    "# and print each of them.\n",
    "unprinted = ['phone case', 'pendant', 'ring']\n",
    "printed = []\n",
    "print_models(unprinted, printed)\n",
    "print(\"\\nUnprinted:\", unprinted)\n",
    "print(\"Printed:\", printed)"
   ]
  },
  {
   "cell_type": "code",
   "execution_count": 28,
   "metadata": {},
   "outputs": [
    {
     "name": "stdout",
     "output_type": "stream",
     "text": [
      "Printing ring\n",
      "Printing pendant\n",
      "Printing phone case\n",
      "\n",
      "Original: ['phone case', 'pendant', 'ring']\n",
      "Printed: ['ring', 'pendant', 'phone case']\n"
     ]
    }
   ],
   "source": [
    "#Preventing a function from modifying a list\n",
    "def print_models(unprinted, printed):\n",
    "    \"\"\"3d print a set of models.\"\"\"\n",
    "    while unprinted:\n",
    "        current_model = unprinted.pop()\n",
    "        print(\"Printing \" + current_model)\n",
    "        printed.append(current_model)\n",
    "# Store some unprinted designs,\n",
    "# and print each of them.\n",
    "original = ['phone case', 'pendant', 'ring']\n",
    "printed = []\n",
    "print_models(original[:], printed)\n",
    "print(\"\\nOriginal:\", original)\n",
    "print(\"Printed:\", printed)"
   ]
  },
  {
   "cell_type": "code",
   "execution_count": 29,
   "metadata": {},
   "outputs": [
    {
     "name": "stdout",
     "output_type": "stream",
     "text": [
      "\n",
      "Making a small pizza.\n",
      "Toppings:\n",
      "- pepperoni\n",
      "\n",
      "Making a large pizza.\n",
      "Toppings:\n",
      "- bacon bits\n",
      "- pineapple\n",
      "\n",
      "Making a medium pizza.\n",
      "Toppings:\n",
      "- mushrooms\n",
      "- peppers\n",
      "- onions\n",
      "- extra cheese\n"
     ]
    }
   ],
   "source": [
    "#Collecting an arbitrary number of arguments\n",
    "def make_pizza(size, *toppings):\n",
    "    \"\"\"Make a pizza.\"\"\"\n",
    "    print(\"\\nMaking a \" + size + \" pizza.\")\n",
    "    print(\"Toppings:\")\n",
    "    for topping in toppings:\n",
    "        print(\"- \" + topping)\n",
    "# Make three pizzas with different toppings.\n",
    "make_pizza('small', 'pepperoni')\n",
    "make_pizza('large', 'bacon bits', 'pineapple')\n",
    "make_pizza('medium', 'mushrooms', 'peppers',\n",
    " 'onions', 'extra cheese')"
   ]
  },
  {
   "cell_type": "code",
   "execution_count": 30,
   "metadata": {},
   "outputs": [
    {
     "name": "stdout",
     "output_type": "stream",
     "text": [
      "{'first': 'albert', 'last': 'einstein', 'location': 'princeton'}\n",
      "{'first': 'marie', 'last': 'curie', 'location': 'paris', 'field': 'chemistry'}\n"
     ]
    }
   ],
   "source": [
    "#Collecting an arbitrary number of keyword arguments\n",
    "def build_profile(first, last, **user_info):\n",
    "    \"\"\"Build a user's profile dictionary.\"\"\"\n",
    "     # Build a dict with the required keys.\n",
    "    profile = {'first': first, 'last': last}\n",
    "    # Add any other keys and values.\n",
    "    for key, value in user_info.items():\n",
    "        profile[key] = value\n",
    "    return profile\n",
    "\n",
    "# Create two users with different kinds\n",
    "# of information.\n",
    "user_0 = build_profile('albert', 'einstein',\n",
    " location='princeton')\n",
    "user_1 = build_profile('marie', 'curie',\n",
    " location='paris', field='chemistry')\n",
    "print(user_0)\n",
    "print(user_1)"
   ]
  },
  {
   "cell_type": "code",
   "execution_count": 31,
   "metadata": {},
   "outputs": [
    {
     "name": "stdout",
     "output_type": "stream",
     "text": [
      "\n",
      "Making a medium pizza.\n",
      "Toppings:\n",
      "- pepperoni\n",
      "\n",
      "Making a small pizza.\n",
      "Toppings:\n",
      "- bacon\n",
      "- pineapple\n"
     ]
    }
   ],
   "source": [
    "#Importing an entire module\n",
    "#File: making_pizzas.py\n",
    "#Every function in the module is available in the program file.\n",
    "import pizza\n",
    "pizza.make_pizza('medium', 'pepperoni')\n",
    "pizza.make_pizza('small', 'bacon', 'pineapple')"
   ]
  },
  {
   "cell_type": "code",
   "execution_count": 1,
   "metadata": {},
   "outputs": [],
   "source": [
    "#The Car class\n",
    "class Car():\n",
    "    \"\"\"A simple attempt to model a car.\"\"\"\n",
    "\n",
    "    def __init__(self, make, model, year):\n",
    "        \"\"\"Initialize car attributes.\"\"\"\n",
    "        self.make = make\n",
    "        self.model = model\n",
    "        self.year = year\n",
    "        # Fuel capacity and level in gallons.\n",
    "        self.fuel_capacity = 15\n",
    "        self.fuel_level = 0\n",
    "    def fill_tank(self):\n",
    "        \"\"\"Fill gas tank to capacity.\"\"\"\n",
    "        self.fuel_level = self.fuel_capacity\n",
    "        print(\"Fuel tank is full.\")\n",
    "\n",
    "    def drive(self):\n",
    "        \"\"\"Simulate driving.\"\"\"\n",
    "        print(\"The car is moving.\")\n"
   ]
  },
  {
   "cell_type": "code",
   "execution_count": 2,
   "metadata": {},
   "outputs": [],
   "source": [
    "#Creating an object from a class\n",
    "my_car = Car('audi', 'a4', 2016)"
   ]
  },
  {
   "cell_type": "code",
   "execution_count": 3,
   "metadata": {},
   "outputs": [
    {
     "name": "stdout",
     "output_type": "stream",
     "text": [
      "audi\n",
      "a4\n",
      "2016\n"
     ]
    }
   ],
   "source": [
    "#Accessing attribute values\n",
    "print(my_car.make)\n",
    "print(my_car.model)\n",
    "print(my_car.year)\n"
   ]
  },
  {
   "cell_type": "code",
   "execution_count": 4,
   "metadata": {},
   "outputs": [
    {
     "name": "stdout",
     "output_type": "stream",
     "text": [
      "Fuel tank is full.\n",
      "The car is moving.\n"
     ]
    }
   ],
   "source": [
    "#Calling methods\n",
    "my_car.fill_tank()\n",
    "my_car.drive()\n"
   ]
  },
  {
   "cell_type": "code",
   "execution_count": 10,
   "metadata": {},
   "outputs": [],
   "source": [
    "#The __init__() method for a child class\n",
    "class ElectricCar(Car):\n",
    "    \"\"\"A simple model of an electric car.\"\"\"\n",
    "    def __init__(self, make, model, year):\n",
    "        \"\"\"Initialize an electric car.\"\"\"\n",
    "        super().__init__(make, model, year)\n",
    " # Attributes specific to electric cars.\n",
    " # Battery capacity in kWh.\n",
    "        self.battery_size = 70\n",
    " # Charge level in %.\n",
    "        self.charge_level = 0\n",
    "#Adding new methods to the child class\n"
   ]
  },
  {
   "cell_type": "code",
   "execution_count": 12,
   "metadata": {},
   "outputs": [
    {
     "name": "stdout",
     "output_type": "stream",
     "text": [
      "The vehicle is fully charged.\n",
      "The car is moving.\n"
     ]
    }
   ],
   "source": [
    "class ElectricCar(Car):\n",
    "   # --snip--\n",
    "    def charge(self):\n",
    "        \"\"\"Fully charge the vehicle.\"\"\"\n",
    "        self.charge_level = 100\n",
    "    print(\"The vehicle is fully charged.\")\n",
    "#Using child methods and parent methods\n",
    "my_ecar = ElectricCar('tesla', 'model s', 2016)\n",
    "my_ecar.charge()\n",
    "my_ecar.drive()\n"
   ]
  },
  {
   "cell_type": "code",
   "execution_count": 13,
   "metadata": {},
   "outputs": [],
   "source": [
    "#Overriding parent methods\n",
    "class ElectricCar(Car):\n",
    " #--snip--\n",
    "    def fill_tank(self):\n",
    "        \"\"\"Display an error message.\"\"\"\n",
    "        print(\"This car has no fuel tank!\")"
   ]
  },
  {
   "cell_type": "code",
   "execution_count": 17,
   "metadata": {},
   "outputs": [],
   "source": [
    "#A Battery class\n",
    "class Battery():\n",
    "    \"\"\"A battery for an electric car.\"\"\"\n",
    "    def __init__(self, size=70):\n",
    "        \"\"\"Initialize battery attributes.\"\"\"\n",
    " # Capacity in kWh, charge level in %.\n",
    "        self.size = size\n",
    "        self.charge_level = 0\n",
    "    def get_range(self):\n",
    "        \"\"\"Return the battery's range.\"\"\"\n",
    "        if self.size == 70:\n",
    "            return 240\n",
    "        elif self.size == 85:\n",
    "            return 270"
   ]
  },
  {
   "cell_type": "code",
   "execution_count": 19,
   "metadata": {},
   "outputs": [],
   "source": [
    "#Using an instance as an attribute\n",
    "class ElectricCar(Car):\n",
    " #--snip--\n",
    "    def __init__(self, make, model, year):\n",
    "        \"\"\"Initialize an electric car.\"\"\"\n",
    "        super().__init__(make, model, year)\n",
    " # Attribute specific to electric cars.\n",
    "        self.battery = Battery()\n",
    "    def charge(self):\n",
    "        \"\"\"Fully charge the vehicle.\"\"\"\n",
    "        self.battery.charge_level = 100\n",
    "        print(\"The vehicle is fully charged.\")"
   ]
  },
  {
   "cell_type": "code",
   "execution_count": 20,
   "metadata": {},
   "outputs": [
    {
     "name": "stdout",
     "output_type": "stream",
     "text": [
      "The vehicle is fully charged.\n",
      "240\n",
      "The car is moving.\n"
     ]
    }
   ],
   "source": [
    "#Using the instance\n",
    "my_ecar = ElectricCar('tesla', 'model x', 2016)\n",
    "my_ecar.charge()\n",
    "print(my_ecar.battery.get_range())\n",
    "my_ecar.drive()"
   ]
  },
  {
   "cell_type": "code",
   "execution_count": 21,
   "metadata": {},
   "outputs": [
    {
     "ename": "ModuleNotFoundError",
     "evalue": "No module named 'car'",
     "output_type": "error",
     "traceback": [
      "\u001b[1;31m---------------------------------------------------------------------------\u001b[0m",
      "\u001b[1;31mModuleNotFoundError\u001b[0m                       Traceback (most recent call last)",
      "\u001b[1;32m<ipython-input-21-6df3159f0779>\u001b[0m in \u001b[0;36m<module>\u001b[1;34m\u001b[0m\n\u001b[1;32m----> 1\u001b[1;33m \u001b[1;32mfrom\u001b[0m \u001b[0mcar\u001b[0m \u001b[1;32mimport\u001b[0m \u001b[0mCar\u001b[0m\u001b[1;33m,\u001b[0m \u001b[0mElectricCar\u001b[0m\u001b[1;33m\u001b[0m\u001b[1;33m\u001b[0m\u001b[0m\n\u001b[0m\u001b[0;32m      2\u001b[0m \u001b[1;31m# Make lists to hold a fleet of cars.\u001b[0m\u001b[1;33m\u001b[0m\u001b[1;33m\u001b[0m\u001b[1;33m\u001b[0m\u001b[0m\n\u001b[0;32m      3\u001b[0m \u001b[0mgas_fleet\u001b[0m \u001b[1;33m=\u001b[0m \u001b[1;33m[\u001b[0m\u001b[1;33m]\u001b[0m\u001b[1;33m\u001b[0m\u001b[1;33m\u001b[0m\u001b[0m\n\u001b[0;32m      4\u001b[0m \u001b[0melectric_fleet\u001b[0m \u001b[1;33m=\u001b[0m \u001b[1;33m[\u001b[0m\u001b[1;33m]\u001b[0m\u001b[1;33m\u001b[0m\u001b[1;33m\u001b[0m\u001b[0m\n\u001b[0;32m      5\u001b[0m \u001b[1;31m# Make 500 gas cars and 250 electric cars.\u001b[0m\u001b[1;33m\u001b[0m\u001b[1;33m\u001b[0m\u001b[1;33m\u001b[0m\u001b[0m\n",
      "\u001b[1;31mModuleNotFoundError\u001b[0m: No module named 'car'"
     ]
    }
   ],
   "source": [
    "from car import Car, ElectricCar\n",
    "# Make lists to hold a fleet of cars.\n",
    "gas_fleet = []\n",
    "electric_fleet = []\n",
    "# Make 500 gas cars and 250 electric cars.\n",
    "for _ in range(500):\n",
    "    car = Car('ford', 'focus', 2016)\n",
    "    gas_fleet.append(car)\n",
    "for _ in range(250):\n",
    "    ecar = ElectricCar('nissan', 'leaf', 2016)\n",
    "    electric_fleet.append(ecar)\n",
    "# Fill the gas cars, and charge electric cars.\n",
    "for car in gas_fleet:\n",
    "    car.fill_tank()\n",
    "for ecar in electric_fleet:\n",
    "    ecar.charge()\n",
    "    print(\"Gas cars:\", len(gas_fleet))\n",
    "    print(\"Electric cars:\", len(electric_fleet))"
   ]
  },
  {
   "cell_type": "code",
   "execution_count": 1,
   "metadata": {},
   "outputs": [
    {
     "name": "stdout",
     "output_type": "stream",
     "text": [
      "You can't divide by zero!\n"
     ]
    }
   ],
   "source": [
    "#Handling the ZeroDivisionError exception\n",
    "try:\n",
    "    print(5/0)\n",
    "except ZeroDivisionError:\n",
    "    print(\"You can't divide by zero!\")"
   ]
  },
  {
   "cell_type": "code",
   "execution_count": 5,
   "metadata": {},
   "outputs": [
    {
     "name": "stdout",
     "output_type": "stream",
     "text": [
      "Enter two numbers. I'll divide them.\n",
      "First number: 2\n",
      "Second number: 3\n",
      "0.6666666666666666\n"
     ]
    }
   ],
   "source": [
    "#Using an else block\n",
    "print(\"Enter two numbers. I'll divide them.\")\n",
    "x = input(\"First number: \")\n",
    "y = input(\"Second number: \")\n",
    "try:\n",
    "    result = int(x) / int(y)\n",
    "except ZeroDivisionError:\n",
    "    print(\"You can't divide by zero!\")\n",
    "else:\n",
    "    print(result)\n"
   ]
  },
  {
   "cell_type": "code",
   "execution_count": 1,
   "metadata": {},
   "outputs": [
    {
     "data": {
      "image/png": "[encoded data removed]",
      "text/plain": [
       "<Figure size 432x288 with 1 Axes>"
      ]
     },
     "metadata": {
      "needs_background": "light"
     },
     "output_type": "display_data"
    }
   ],
   "source": [
    "import matplotlib.pyplot as plt\n",
    "x_values = [0, 1, 2, 3, 4, 5]\n",
    "squares = [0, 1, 4, 9, 16, 25]\n",
    "plt.plot(x_values, squares)\n",
    "plt.show()\n"
   ]
  },
  {
   "cell_type": "code",
   "execution_count": 4,
   "metadata": {},
   "outputs": [
    {
     "data": {
      "image/png": "[encoded data removed]",
      "text/plain": [
       "<Figure size 432x288 with 1 Axes>"
      ]
     },
     "metadata": {
      "needs_background": "light"
     },
     "output_type": "display_data"
    }
   ],
   "source": [
    "import matplotlib.pyplot as plt\n",
    "x_values = list(range(1000))\n",
    "squares = [x**2 for x in x_values]\n",
    "plt.scatter(x_values, squares, s=10)\n",
    "plt.show()"
   ]
  },
  {
   "cell_type": "code",
   "execution_count": 5,
   "metadata": {},
   "outputs": [
    {
     "data": {
      "image/png": "[encoded data removed]",
      "text/plain": [
       "<Figure size 432x288 with 1 Axes>"
      ]
     },
     "metadata": {
      "needs_background": "light"
     },
     "output_type": "display_data"
    }
   ],
   "source": [
    "import matplotlib.pyplot as plt\n",
    "x_values = list(range(1000))\n",
    "squares = [x**2 for x in x_values]\n",
    "plt.scatter(x_values, squares, s=10)\n",
    "plt.title(\"Square Numbers\", fontsize=24)\n",
    "plt.xlabel(\"Value\", fontsize=18)\n",
    "plt.ylabel(\"Square of Value\", fontsize=18)\n",
    "plt.tick_params(axis='both', which='major',\n",
    " labelsize=14)\n",
    "plt.axis([0, 1100, 0, 1100000])\n",
    "plt.show()"
   ]
  },
  {
   "cell_type": "code",
   "execution_count": 6,
   "metadata": {},
   "outputs": [
    {
     "data": {
      "text/plain": [
       "<matplotlib.collections.PathCollection at 0x20232fee388>"
      ]
     },
     "execution_count": 6,
     "metadata": {},
     "output_type": "execute_result"
    },
    {
     "data": {
      "image/png": "[encoded data removed]",
      "text/plain": [
       "<Figure size 432x288 with 1 Axes>"
      ]
     },
     "metadata": {
      "needs_background": "light"
     },
     "output_type": "display_data"
    }
   ],
   "source": [
    "plt.scatter(x_values, squares, c=squares,\n",
    " cmap=plt.cm.Blues, edgecolor='none',\n",
    " s=10)\n"
   ]
  },
  {
   "cell_type": "code",
   "execution_count": 7,
   "metadata": {},
   "outputs": [
    {
     "data": {
      "text/plain": [
       "Text(0.5, 1.0, 'Square Numbers')"
      ]
     },
     "execution_count": 7,
     "metadata": {},
     "output_type": "execute_result"
    },
    {
     "data": {
      "image/png": "[encoded data removed]",
      "text/plain": [
       "<Figure size 432x288 with 1 Axes>"
      ]
     },
     "metadata": {
      "needs_background": "light"
     },
     "output_type": "display_data"
    }
   ],
   "source": [
    "import matplotlib.pyplot as plt\n",
    "x_values = list(range(1000))\n",
    "squares = [x**2 for x in x_values]\n",
    "plt.scatter(x_values, squares, c=squares,\n",
    " cmap=plt.cm.Blues, edgecolor='none',\n",
    " s=10)\n",
    "\n",
    "plt.scatter(x_values[0], squares[0], c='green',\n",
    " edgecolor='none', s=100)\n",
    "plt.scatter(x_values[-1], squares[-1], c='red',\n",
    " edgecolor='none', s=100)\n",
    "plt.title(\"Square Numbers\", fontsize=24)"
   ]
  },
  {
   "cell_type": "code",
   "execution_count": 9,
   "metadata": {},
   "outputs": [
    {
     "name": "stderr",
     "output_type": "stream",
     "text": [
      "C:\\Users\\rohil\\Anaconda3\\envs\\PythonData\\lib\\site-packages\\ipykernel_launcher.py:13: MatplotlibDeprecationWarning: Adding an axes using the same arguments as a previous axes currently reuses the earlier instance.  In a future version, a new instance will always be created and returned.  Meanwhile, this warning can be suppressed, and the future behavior ensured, by passing a unique label to each axes instance.\n",
      "  del sys.path[0]\n",
      "C:\\Users\\rohil\\Anaconda3\\envs\\PythonData\\lib\\site-packages\\ipykernel_launcher.py:14: MatplotlibDeprecationWarning: Adding an axes using the same arguments as a previous axes currently reuses the earlier instance.  In a future version, a new instance will always be created and returned.  Meanwhile, this warning can be suppressed, and the future behavior ensured, by passing a unique label to each axes instance.\n",
      "  \n"
     ]
    },
    {
     "data": {
      "image/png": "[encoded data removed]",
      "text/plain": [
       "<Figure size 432x288 with 1 Axes>"
      ]
     },
     "metadata": {
      "needs_background": "light"
     },
     "output_type": "display_data"
    }
   ],
   "source": [
    "import matplotlib.pyplot as plt\n",
    "x_values = list(range(1000))\n",
    "squares = [x**2 for x in x_values]\n",
    "plt.scatter(x_values, squares, c=squares,\n",
    " cmap=plt.cm.Blues, edgecolor='none',\n",
    " s=10)\n",
    "\n",
    "plt.scatter(x_values[0], squares[0], c='green',\n",
    " edgecolor='none', s=100)\n",
    "plt.scatter(x_values[-1], squares[-1], c='red',\n",
    " edgecolor='none', s=100)\n",
    "plt.title(\"Square Numbers\", fontsize=24)\n",
    "plt.axes().get_xaxis().set_visible(False)\n",
    "plt.axes().get_yaxis().set_visible(False)"
   ]
  },
  {
   "cell_type": "code",
   "execution_count": 12,
   "metadata": {},
   "outputs": [
    {
     "data": {
      "image/png": "[encoded data removed]",
      "text/plain": [
       "<Figure size 720x432 with 1 Axes>"
      ]
     },
     "metadata": {
      "needs_background": "light"
     },
     "output_type": "display_data"
    }
   ],
   "source": [
    "import matplotlib.pyplot as plt\n",
    "plt.figure(figsize=(10, 6))\n",
    "x_values = list(range(1000))\n",
    "squares = [x**2 for x in x_values]\n",
    "plt.scatter(x_values, squares, c=squares,\n",
    " cmap=plt.cm.Blues, edgecolor='none',\n",
    " s=10)\n",
    "\n",
    "plt.scatter(x_values[0], squares[0], c='green',\n",
    " edgecolor='none', s=100)\n",
    "plt.scatter(x_values[-1], squares[-1], c='red',\n",
    " edgecolor='none', s=100)\n",
    "plt.title(\"Square Numbers\", fontsize=24)\n",
    "plt.savefig('squares.png', bbox_inches='tight')"
   ]
  },
  {
   "cell_type": "code",
   "execution_count": null,
   "metadata": {},
   "outputs": [],
   "source": []
  },
  {
   "cell_type": "code",
   "execution_count": null,
   "metadata": {},
   "outputs": [],
   "source": []
  },
  {
   "cell_type": "code",
   "execution_count": null,
   "metadata": {},
   "outputs": [],
   "source": []
  },
  {
   "cell_type": "code",
   "execution_count": null,
   "metadata": {},
   "outputs": [],
   "source": []
  },
  {
   "cell_type": "code",
   "execution_count": null,
   "metadata": {},
   "outputs": [],
   "source": []
  },
  {
   "cell_type": "code",
   "execution_count": null,
   "metadata": {},
   "outputs": [],
   "source": []
  }
 ],
 "metadata": {
  "kernelspec": {
   "display_name": "PythonData",
   "language": "python",
   "name": "pythondata"
  },
  "language_info": {
   "codemirror_mode": {
    "name": "ipython",
    "version": 3
   },
   "file_extension": ".py",
   "mimetype": "text/x-python",
   "name": "python",
   "nbconvert_exporter": "python",
   "pygments_lexer": "ipython3",
   "version": "3.7.6"
  }
 },
 "nbformat": 4,
 "nbformat_minor": 4
}

{
 "cells": [
  {
   "cell_type": "code",
   "execution_count": null,
   "metadata": {},
   "outputs": [],
   "source": [
    "#Storing a function in a module\n",
    "#File: pizza.py\n",
    "def make_pizza(size, *toppings):\n",
    "    \"\"\"Make a pizza.\"\"\"\n",
    "    print(\"\\nMaking a \" + size + \" pizza.\")\n",
    "    print(\"Toppings:\")\n",
    "    for topping in toppings:\n",
    "        print(\"- \" + topping)"
   ]
  }
 ],
 "metadata": {
  "kernelspec": {
   "display_name": "PythonData",
   "language": "python",
   "name": "pythondata"
  },
  "language_info": {
   "codemirror_mode": {
    "name": "ipython",
    "version": 3
   },
   "file_extension": ".py",
   "mimetype": "text/x-python",
   "name": "python",
   "nbconvert_exporter": "python",
   "pygments_lexer": "ipython3",
   "version": "3.7.6"
  }
 },
 "nbformat": 4,
 "nbformat_minor": 4
}

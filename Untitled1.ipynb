{
 "cells": [
  {
   "cell_type": "code",
   "execution_count": 19,
   "metadata": {},
   "outputs": [
    {
     "name": "stdout",
     "output_type": "stream",
     "text": [
      "my name is alice\n",
      "6\n"
     ]
    }
   ],
   "source": [
    "  \n",
    "vowel_list=['a','e','i','o','u']\n",
    "count=0\n",
    "\n",
    "for _ in list(input()):\n",
    "    if _ in vowel_list:\n",
    "        count+=1\n",
    "        \n",
    "print(count)\n",
    "        "
   ]
  },
  {
   "cell_type": "code",
   "execution_count": 35,
   "metadata": {},
   "outputs": [
    {
     "name": "stdout",
     "output_type": "stream",
     "text": [
      "happy\n",
      "ahppy\n"
     ]
    }
   ],
   "source": [
    "word=input()\n",
    "   \n",
    "#print(sorted(word))\n",
    "\n",
    "print(''.join(sorted(word))) \n"
   ]
  },
  {
   "cell_type": "code",
   "execution_count": 33,
   "metadata": {},
   "outputs": [
    {
     "name": "stdout",
     "output_type": "stream",
     "text": [
      "5\n",
      "120\n"
     ]
    }
   ],
   "source": [
    "num=int(input())\n",
    "fact=1\n",
    "if num==0:\n",
    "    print(fact)\n",
    "elif num<0:\n",
    "    print(\"not defined\")\n",
    "else:\n",
    "    for i in range(1,num):\n",
    "        if num>=1:\n",
    "            fact=fact*num\n",
    "            num=num-1\n",
    "    print(fact)\n",
    "        "
   ]
  }
 ],
 "metadata": {
  "kernelspec": {
   "display_name": "PythonData",
   "language": "python",
   "name": "pythondata"
  },
  "language_info": {
   "codemirror_mode": {
    "name": "ipython",
    "version": 3
   },
   "file_extension": ".py",
   "mimetype": "text/x-python",
   "name": "python",
   "nbconvert_exporter": "python",
   "pygments_lexer": "ipython3",
   "version": "3.7.6"
  }
 },
 "nbformat": 4,
 "nbformat_minor": 4
}

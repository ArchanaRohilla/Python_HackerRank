{
 "cells": [
  {
   "cell_type": "code",
   "execution_count": 1,
   "metadata": {},
   "outputs": [
    {
     "name": "stdout",
     "output_type": "stream",
     "text": [
      "1\n",
      "2\n",
      "3\n",
      "5\n",
      "8\n",
      "13\n",
      "21\n",
      "34\n",
      "55\n",
      "89\n"
     ]
    }
   ],
   "source": [
    "n=10\n",
    "\n",
    "num1=1\n",
    "num2=2\n",
    "\n",
    "for i in range(n):\n",
    "    if i==0:\n",
    "    \tnum=1\n",
    "        \n",
    "    if i==1:\n",
    "    \tnum=2\n",
    "        \n",
    "    if i>1:    \n",
    "        num=num1+num2\n",
    "        num1=num2\n",
    "        num2=num\n",
    "    print(num)\n",
    "    "
   ]
  },
  {
   "cell_type": "code",
   "execution_count": 2,
   "metadata": {},
   "outputs": [
    {
     "name": "stdout",
     "output_type": "stream",
     "text": [
      "[1, 1, 2, 3, 5, 8, 13, 21, 34, 55, 89, 144]\n"
     ]
    }
   ],
   "source": [
    "n=12\n",
    "arr=[1]*n\n",
    "\n",
    "\n",
    "for i in range(2,n):\n",
    "    if i==0:\n",
    "    \tarr[0]=1\n",
    "        \n",
    "    if i==1:\n",
    "    \tarr[1]=2\n",
    "              \n",
    "    arr[i]=arr[i-1]+arr[i-2]\n",
    "        \n",
    "print(arr)"
   ]
  },
  {
   "cell_type": "code",
   "execution_count": 3,
   "metadata": {},
   "outputs": [
    {
     "name": "stdout",
     "output_type": "stream",
     "text": [
      "123456789101112131415161718192021222324252627282930313233343536373839404142434445464748495051525354555657585960616263646566676869707172737475767778798081828384858687888990919293949596979899100\n"
     ]
    }
   ],
   "source": [
    "num=0\n",
    "k=1\n",
    "u=10\n",
    "n=100\n",
    "\n",
    "for i in range(1,n+1):\n",
    "    if i>=u:\n",
    "        k=k+1\n",
    "        u=u*10\n",
    "    num=num*((10)**k) +i\n",
    "print(num)"
   ]
  },
  {
   "cell_type": "code",
   "execution_count": 4,
   "metadata": {},
   "outputs": [
    {
     "name": "stdout",
     "output_type": "stream",
     "text": [
      "24\n"
     ]
    }
   ],
   "source": [
    "n=5\n",
    "fact=1\n",
    "\n",
    "for i in range(n):\n",
    "    if i==0:\n",
    "        fact=1\n",
    "    else:\n",
    "        fact=fact*i\n",
    "        \n",
    "print(fact)"
   ]
  },
  {
   "cell_type": "code",
   "execution_count": 5,
   "metadata": {},
   "outputs": [
    {
     "name": "stdout",
     "output_type": "stream",
     "text": [
      "120\n"
     ]
    }
   ],
   "source": [
    "n=5\n",
    "fact=1\n",
    "\n",
    "for i in range(1,n):\n",
    "    if i==0:\n",
    "        fact=1\n",
    "    else:\n",
    "        fact=fact*(i+1)\n",
    "        \n",
    "print(fact)"
   ]
  },
  {
   "cell_type": "code",
   "execution_count": 6,
   "metadata": {},
   "outputs": [
    {
     "name": "stdout",
     "output_type": "stream",
     "text": [
      "120\n"
     ]
    }
   ],
   "source": [
    "n=5\n",
    "\n",
    "def factorX(n):\n",
    "    fact=1\n",
    "    for i in range(1,n):\n",
    "        if i==0:\n",
    "            fact=1\n",
    "        else:\n",
    "            fact=fact*(i+1)  \n",
    "  \n",
    "        \n",
    "    print(fact)\n",
    "    \n",
    "    \n",
    "factorX(5)"
   ]
  },
  {
   "cell_type": "code",
   "execution_count": 7,
   "metadata": {},
   "outputs": [
    {
     "data": {
      "text/plain": [
       "120"
      ]
     },
     "execution_count": 7,
     "metadata": {},
     "output_type": "execute_result"
    }
   ],
   "source": [
    "def factX(n):\n",
    "    fact=1\n",
    "    if n==0:\n",
    "        fact=1\n",
    "    else:\n",
    "        if n==1:\n",
    "            fact=1\n",
    "        else:\n",
    "            fact=n*factX(n-1)\n",
    "    \n",
    "    return fact\n",
    "\n",
    "factX(5)\n",
    "        "
   ]
  },
  {
   "cell_type": "code",
   "execution_count": 8,
   "metadata": {},
   "outputs": [
    {
     "name": "stdout",
     "output_type": "stream",
     "text": [
      "0 BAA 4 1\n",
      "1 BAA -1 1\n",
      "2 BAA -1 1\n",
      "3 BAA -1 1\n",
      "4 BAA -1 1\n",
      "5 BAA -1 1\n",
      "6 BAA -1 1\n",
      "7 BAA -1 1\n"
     ]
    },
    {
     "data": {
      "text/plain": [
       "1"
      ]
     },
     "execution_count": 8,
     "metadata": {},
     "output_type": "execute_result"
    }
   ],
   "source": [
    "def count_substring(stringx, sub_string):\n",
    "    count=0\n",
    "    \n",
    "    for i in range(0,len(stringx)):\n",
    "        p=stringx.find(sub_string)\n",
    "        if p!=-1:\n",
    "            count +=1\n",
    "        stringx=stringx[(p+1):]\n",
    "        print (i,stringx,p,count)\n",
    "  \n",
    "    return count\n",
    "\n",
    "count_substring(\"BBBBABAA\", \"ABAA\")"
   ]
  },
  {
   "cell_type": "code",
   "execution_count": 9,
   "metadata": {},
   "outputs": [
    {
     "name": "stdout",
     "output_type": "stream",
     "text": [
      "0 q True True False True False\n",
      "1 a True True False True False\n",
      "2 2 True True True True False\n",
      "3 A True True True True True\n",
      "True\n",
      "True\n",
      "True\n",
      "True\n",
      "True\n"
     ]
    }
   ],
   "source": [
    "s=\"qa2A\"\n",
    "slist=list(s)\n",
    "n=len(slist)\n",
    "result_digit=False\n",
    "result_alpha=False\n",
    "result_digit=False\n",
    "result_lower=False\n",
    "result_upper=False\n",
    "\n",
    "for i in range(n):\n",
    "    if(s[i].isalnum()):\n",
    "        result_alphnum=True\n",
    "    \n",
    "    if(s[i].isalpha()):\n",
    "        result_alpha=True\n",
    "        \n",
    "    if(s[i].isdigit()):\n",
    "        result_digit=True\n",
    "    \n",
    "    if(s[i].islower()):\n",
    "        result_lower=True\n",
    "    \n",
    "    if(s[i].isupper()):\n",
    "        result_upper=True\n",
    "    print(i,s[i],result_alphnum,result_alpha,result_digit,result_lower,result_upper)\n",
    "    \n",
    "            \n",
    "        \n",
    "print(result_alphnum)\n",
    "print(result_alpha)\n",
    "print(result_digit)         \n",
    "print(result_lower)    \n",
    "print(result_upper)\n"
   ]
  },
  {
   "cell_type": "code",
   "execution_count": 10,
   "metadata": {},
   "outputs": [
    {
     "name": "stdout",
     "output_type": "stream",
     "text": [
      "ABCD\n",
      "EFGH\n",
      "IJKL\n",
      "IMNO\n",
      "QRST\n",
      "UVWX\n",
      "YZ\n",
      "\n",
      "\n",
      "\n",
      "\n",
      "\n",
      "\n",
      "\n",
      "\n",
      "\n",
      "\n",
      "\n",
      "\n",
      "\n",
      "\n",
      "\n",
      "\n",
      "\n",
      "\n",
      "\n"
     ]
    }
   ],
   "source": [
    "s=\"ABCDEFGHIJKLIMNOQRSTUVWXYZ\"\n",
    "w=4\n",
    "for i in range(0,len(s)):\n",
    "    print(s[:w])\n",
    "    s=s[w:]\n",
    "    \n",
    "    "
   ]
  },
  {
   "cell_type": "code",
   "execution_count": 11,
   "metadata": {},
   "outputs": [
    {
     "name": "stdout",
     "output_type": "stream",
     "text": [
      "0 ABCD\n",
      " ABCDEFGHIJKLIMNOQRSTUVWXYZ\n",
      "1 ABCD\n",
      "EFGH\n",
      " EFGHIJKLIMNOQRSTUVWXYZ\n",
      "2 ABCD\n",
      "EFGH\n",
      "IJKL\n",
      " IJKLIMNOQRSTUVWXYZ\n",
      "3 ABCD\n",
      "EFGH\n",
      "IJKL\n",
      "IMNO\n",
      " IMNOQRSTUVWXYZ\n",
      "4 ABCD\n",
      "EFGH\n",
      "IJKL\n",
      "IMNO\n",
      "QRST\n",
      " QRSTUVWXYZ\n",
      "5 ABCD\n",
      "EFGH\n",
      "IJKL\n",
      "IMNO\n",
      "QRST\n",
      "UVWX\n",
      " UVWXYZ\n",
      "6 ABCD\n",
      "EFGH\n",
      "IJKL\n",
      "IMNO\n",
      "QRST\n",
      "UVWX\n",
      "YZ\n",
      " YZ\n",
      "xxxx\n",
      "ABCD\n",
      "EFGH\n",
      "IJKL\n",
      "IMNO\n",
      "QRST\n",
      "UVWX\n",
      "YZ\n",
      "\n",
      "xxxx\n"
     ]
    }
   ],
   "source": [
    "stringz=\"ABCDEFGHIJKLIMNOQRSTUVWXYZ\"\n",
    "max_width=4\n",
    "def wrap(stringz, max_width):\n",
    "    result=\"\"\n",
    "    for i in range(0,len(stringz)):\n",
    "        if len(stringz)>0:\n",
    "            result = result+stringz[:max_width]+\"\\n\"\n",
    "        \n",
    "            print(i,result,stringz)           \n",
    "            stringz=stringz[max_width:]\n",
    "            \n",
    "    return result\n",
    "\n",
    "result1 = wrap(\"ABCDEFGHIJKLIMNOQRSTUVWXYZ\", 4)\n",
    "print(\"xxxx\")\n",
    "print(result1)\n",
    "print(\"xxxx\")\n"
   ]
  },
  {
   "cell_type": "code",
   "execution_count": 12,
   "metadata": {},
   "outputs": [
    {
     "name": "stdout",
     "output_type": "stream",
     "text": [
      "Chris Alan\n",
      "['chris', 'alan'] chris alan c a\n"
     ]
    }
   ],
   "source": [
    "s=\"chris alan\"\n",
    "b = s.split(\" \")\n",
    "if b[0][0].isalpha()==True:\n",
    "    s1=b[0][0].upper()+b[0][1:]\n",
    "    \n",
    "if b[1][0].isalpha()==True:\n",
    "    s2=b[1][0].upper()+b[1][1:]\n",
    "    \n",
    "s=s1+\" \"+s2\n",
    "print(s)        \n",
    "   \n",
    "print(b,b[0],b[1],b[0][0],b[1][0])\n"
   ]
  },
  {
   "cell_type": "code",
   "execution_count": 13,
   "metadata": {},
   "outputs": [],
   "source": [
    "\n",
    "def solve(s):\n",
    "    b = s.split(\" \")\n",
    "    s1=\"\"\n",
    "    s2=\"\"\n",
    "    \n",
    "    if b[0][0].isalpha()==True:\n",
    "        s1=b[0][0].upper()+b[0][1:]\n",
    "    else:\n",
    "        s1=b[0]\n",
    "        \n",
    "    if len(b)>1:\n",
    "        if b[1][0].isalpha()==True:\n",
    "            s2=b[1][0].upper()+b[1][1:]\n",
    "        else:\n",
    "            s2=b[1]\n",
    "           \n",
    "            \n",
    "    \n",
    "    result=s1+\" \"+s2\n",
    "    return result "
   ]
  },
  {
   "cell_type": "code",
   "execution_count": 14,
   "metadata": {},
   "outputs": [
    {
     "name": "stdout",
     "output_type": "stream",
     "text": [
      "Sandeep Rohilla\n"
     ]
    }
   ],
   "source": [
    "result2=solve(\"sandeep rohilla\")\n",
    "print(result2)\n"
   ]
  },
  {
   "cell_type": "code",
   "execution_count": null,
   "metadata": {},
   "outputs": [],
   "source": []
  },
  {
   "cell_type": "code",
   "execution_count": 15,
   "metadata": {},
   "outputs": [],
   "source": [
    "def solve(s):\n",
    "    b = s.split(\" \")\n",
    "    result=\"\"\n",
    "    print(b)\n",
    "    \n",
    "    for i in range(len(b)):\n",
    "        print(i)\n",
    "        print(b[i])\n",
    "        if len(b[i])>0:\n",
    "            if b[i][0].isalpha()==True:\n",
    "                print(b[i][0])\n",
    "    \n",
    "                result=result+b[i][0].upper()+b[i][1:]+\" \"\n",
    "            else:\n",
    "                result=result+b[i]+\" \"\n",
    "        else:\n",
    "            result=result+b[i]+\" \"\n",
    "          \n",
    "            \n",
    "    \n",
    "    return result "
   ]
  },
  {
   "cell_type": "code",
   "execution_count": 16,
   "metadata": {},
   "outputs": [
    {
     "name": "stdout",
     "output_type": "stream",
     "text": [
      "['1', 'w', '2', 'r', '3g']\n",
      "0\n",
      "1\n",
      "1\n",
      "w\n",
      "w\n",
      "2\n",
      "2\n",
      "3\n",
      "r\n",
      "r\n",
      "4\n",
      "3g\n",
      "1 W 2 R 3g \n"
     ]
    }
   ],
   "source": [
    "result2=solve(\"1 w 2 r 3g\")\n",
    "print(result2)"
   ]
  },
  {
   "cell_type": "code",
   "execution_count": 17,
   "metadata": {},
   "outputs": [
    {
     "name": "stdout",
     "output_type": "stream",
     "text": [
      "Weird\n"
     ]
    }
   ],
   "source": [
    "n=20\n",
    "if n%2!=0:\n",
    "    print(\"Weird\")\n",
    "else: \n",
    "    if n>=2 and n<=5:\n",
    "        print(\"Not Weird\")\n",
    "            \n",
    "    if n>=6 and n<=20:\n",
    "        print(\"Weird\")\n",
    "            \n",
    "    if n>20:\n",
    "        print(\"Not Weird\")\n"
   ]
  },
  {
   "cell_type": "code",
   "execution_count": 18,
   "metadata": {},
   "outputs": [
    {
     "name": "stdout",
     "output_type": "stream",
     "text": [
      "5\n",
      "1\n",
      "6\n"
     ]
    }
   ],
   "source": [
    "a=3\n",
    "b=2\n",
    "print(a+b)\n",
    "print(a-b)\n",
    "print(a*b)"
   ]
  },
  {
   "cell_type": "code",
   "execution_count": 19,
   "metadata": {},
   "outputs": [
    {
     "name": "stdout",
     "output_type": "stream",
     "text": [
      "1\n",
      "1.3333333333333333\n"
     ]
    }
   ],
   "source": [
    "a=4\n",
    "b=3\n",
    "print(a//b)\n",
    "print(a/b)"
   ]
  },
  {
   "cell_type": "code",
   "execution_count": 20,
   "metadata": {},
   "outputs": [
    {
     "name": "stdout",
     "output_type": "stream",
     "text": [
      "['this', 'is', 'a', 'string']\n",
      "this-is-a-string\n"
     ]
    }
   ],
   "source": [
    "a = \"this is a string\"\n",
    "a = a.split(\" \")\n",
    "print(a)\n",
    "a = \"-\".join(a)\n",
    "print(a)"
   ]
  },
  {
   "cell_type": "code",
   "execution_count": 21,
   "metadata": {},
   "outputs": [],
   "source": [
    "def split_and_join(line):\n",
    "    \n",
    "    line = line.split(\" \")\n",
    "    result=\"-\".join(line)\n",
    "    return result"
   ]
  },
  {
   "cell_type": "code",
   "execution_count": 22,
   "metadata": {},
   "outputs": [
    {
     "name": "stdout",
     "output_type": "stream",
     "text": [
      "this-is-my-code\n"
     ]
    }
   ],
   "source": [
    "result = split_and_join(\"this is my code\")\n",
    "print(result)"
   ]
  },
  {
   "cell_type": "code",
   "execution_count": 25,
   "metadata": {},
   "outputs": [
    {
     "name": "stdout",
     "output_type": "stream",
     "text": [
      "    H    \n",
      "   HHH   \n",
      "  HHHHH  \n",
      " HHHHHHH \n",
      "HHHHHHHHH\n"
     ]
    }
   ],
   "source": [
    "thickness = 5 #This must be an odd number\n",
    "c = 'H'\n",
    "#Top Cone\n",
    "for i in range(thickness):\n",
    "    print((c*i).rjust(thickness-1)+c+(c*i).ljust(thickness-1))\n"
   ]
  },
  {
   "cell_type": "code",
   "execution_count": 26,
   "metadata": {},
   "outputs": [
    {
     "name": "stdout",
     "output_type": "stream",
     "text": [
      "HHHHH                 HHHHH             \n",
      "HHHHH                 HHHHH             \n",
      "HHHHH                 HHHHH             \n",
      "HHHHH                 HHHHH             \n",
      "HHHHH                 HHHHH             \n",
      "HHHHH                 HHHHH             \n"
     ]
    }
   ],
   "source": [
    "thickness = 5 #This must be an odd number\n",
    "c = 'H'\n",
    "#Top Pillars\n",
    "for i in range(thickness+1):\n",
    "    print((c*thickness).ljust(thickness*2)+(c*thickness).center(thickness*6))"
   ]
  },
  {
   "cell_type": "code",
   "execution_count": 27,
   "metadata": {},
   "outputs": [
    {
     "name": "stdout",
     "output_type": "stream",
     "text": [
      "     HHHHHHHHHHHHHHHHHHHHHHHHH\n",
      "     HHHHHHHHHHHHHHHHHHHHHHHHH\n",
      "     HHHHHHHHHHHHHHHHHHHHHHHHH\n"
     ]
    }
   ],
   "source": [
    "thickness = 5 #This must be an odd number\n",
    "c = 'H'\n",
    "#Middle Belt\n",
    "for i in range((thickness+1)//2):\n",
    "    print((c*thickness*5).rjust(thickness*6))    "
   ]
  },
  {
   "cell_type": "code",
   "execution_count": 28,
   "metadata": {},
   "outputs": [
    {
     "name": "stdout",
     "output_type": "stream",
     "text": [
      "HHHHH                 HHHHH             \n",
      "HHHHH                 HHHHH             \n",
      "HHHHH                 HHHHH             \n",
      "HHHHH                 HHHHH             \n",
      "HHHHH                 HHHHH             \n",
      "HHHHH                 HHHHH             \n"
     ]
    }
   ],
   "source": [
    "thickness = 5 #This must be an odd number\n",
    "c = 'H'\n",
    "#Bottom Pillars\n",
    "for i in range(thickness+1):\n",
    "    print((c*thickness).ljust(thickness*2)+(c*thickness).center(thickness*6))    \n"
   ]
  },
  {
   "cell_type": "code",
   "execution_count": 29,
   "metadata": {},
   "outputs": [
    {
     "name": "stdout",
     "output_type": "stream",
     "text": [
      "                    HHHHHHHHH \n",
      "                     HHHHHHH  \n",
      "                      HHHHH   \n",
      "                       HHH    \n",
      "                        H     \n"
     ]
    }
   ],
   "source": [
    "thickness = 5 #This must be an odd number\n",
    "c = 'H'\n",
    "#Bottom Cone\n",
    "for i in range(thickness):\n",
    "    print(((c*(thickness-i-1)).rjust(thickness)+c+(c*(thickness-i-1)).ljust(thickness)).rjust(thickness*6))"
   ]
  },
  {
   "cell_type": "code",
   "execution_count": 30,
   "metadata": {},
   "outputs": [
    {
     "name": "stdout",
     "output_type": "stream",
     "text": [
      "    H    \n",
      "   HHH   \n",
      "  HHHHH  \n",
      " HHHHHHH \n",
      "HHHHHHHHH\n",
      "  HHHHH               HHHHH             \n",
      "  HHHHH               HHHHH             \n",
      "  HHHHH               HHHHH             \n",
      "  HHHHH               HHHHH             \n",
      "  HHHHH               HHHHH             \n",
      "  HHHHH               HHHHH             \n",
      "  HHHHHHHHHHHHHHHHHHHHHHHHH   \n",
      "  HHHHHHHHHHHHHHHHHHHHHHHHH   \n",
      "  HHHHHHHHHHHHHHHHHHHHHHHHH   \n",
      "  HHHHH               HHHHH             \n",
      "  HHHHH               HHHHH             \n",
      "  HHHHH               HHHHH             \n",
      "  HHHHH               HHHHH             \n",
      "  HHHHH               HHHHH             \n",
      "  HHHHH               HHHHH             \n",
      "                    HHHHHHHHH \n",
      "                     HHHHHHH  \n",
      "                      HHHHH   \n",
      "                       HHH    \n",
      "                        H     \n"
     ]
    }
   ],
   "source": [
    "thickness = 5 #This must be an odd number\n",
    "c = 'H'\n",
    "#Top Cone\n",
    "for i in range(thickness):\n",
    "    print((c*i).rjust(thickness-1)+c+(c*i).ljust(thickness-1))\n",
    "    #Top Pillars\n",
    "for i in range(thickness+1):\n",
    "    print((c*thickness).center(thickness*2)+(c*thickness).center(thickness*6))\n",
    "    #Middle Belt\n",
    "for i in range((thickness+1)//2):\n",
    "    print((c*thickness*5).center(thickness*6))\n",
    "    #Bottom Pillars\n",
    "for i in range(thickness+1):\n",
    "    print((c*thickness).center(thickness*2)+(c*thickness).center(thickness*6)) \n",
    "    #Bottom Cone\n",
    "for i in range(thickness):\n",
    "    print(((c*(thickness-i-1)).rjust(thickness)+c+(c*(thickness-i-1)).ljust(thickness)).rjust(thickness*6))   \n"
   ]
  },
  {
   "cell_type": "code",
   "execution_count": 31,
   "metadata": {},
   "outputs": [
    {
     "name": "stdout",
     "output_type": "stream",
     "text": [
      "11\n"
     ]
    },
    {
     "ename": "AttributeError",
     "evalue": "'str' object has no attribute '______'",
     "output_type": "error",
     "traceback": [
      "\u001b[1;31m---------------------------------------------------------------------------\u001b[0m",
      "\u001b[1;31mAttributeError\u001b[0m                            Traceback (most recent call last)",
      "\u001b[1;32m<ipython-input-31-da98c5f5ac0b>\u001b[0m in \u001b[0;36m<module>\u001b[1;34m\u001b[0m\n\u001b[0;32m      6\u001b[0m \u001b[1;31m#Top Cone\u001b[0m\u001b[1;33m\u001b[0m\u001b[1;33m\u001b[0m\u001b[1;33m\u001b[0m\u001b[0m\n\u001b[0;32m      7\u001b[0m \u001b[1;32mfor\u001b[0m \u001b[0mi\u001b[0m \u001b[1;32min\u001b[0m \u001b[0mrange\u001b[0m\u001b[1;33m(\u001b[0m\u001b[0mthickness\u001b[0m\u001b[1;33m)\u001b[0m\u001b[1;33m:\u001b[0m\u001b[1;33m\u001b[0m\u001b[1;33m\u001b[0m\u001b[0m\n\u001b[1;32m----> 8\u001b[1;33m     \u001b[0mprint\u001b[0m\u001b[1;33m(\u001b[0m\u001b[1;33m(\u001b[0m\u001b[0mc\u001b[0m\u001b[1;33m*\u001b[0m\u001b[0mi\u001b[0m\u001b[1;33m)\u001b[0m\u001b[1;33m.\u001b[0m\u001b[0m______\u001b[0m\u001b[1;33m(\u001b[0m\u001b[0mthickness\u001b[0m\u001b[1;33m-\u001b[0m\u001b[1;36m1\u001b[0m\u001b[1;33m)\u001b[0m\u001b[1;33m+\u001b[0m\u001b[0mc\u001b[0m\u001b[1;33m+\u001b[0m\u001b[1;33m(\u001b[0m\u001b[0mc\u001b[0m\u001b[1;33m*\u001b[0m\u001b[0mi\u001b[0m\u001b[1;33m)\u001b[0m\u001b[1;33m.\u001b[0m\u001b[0m______\u001b[0m\u001b[1;33m(\u001b[0m\u001b[0mthickness\u001b[0m\u001b[1;33m-\u001b[0m\u001b[1;36m1\u001b[0m\u001b[1;33m)\u001b[0m\u001b[1;33m)\u001b[0m\u001b[1;33m\u001b[0m\u001b[1;33m\u001b[0m\u001b[0m\n\u001b[0m\u001b[0;32m      9\u001b[0m \u001b[1;33m\u001b[0m\u001b[0m\n\u001b[0;32m     10\u001b[0m \u001b[1;31m#Top Pillars\u001b[0m\u001b[1;33m\u001b[0m\u001b[1;33m\u001b[0m\u001b[1;33m\u001b[0m\u001b[0m\n",
      "\u001b[1;31mAttributeError\u001b[0m: 'str' object has no attribute '______'"
     ]
    }
   ],
   "source": [
    "#Replace all ______ with rjust, ljust or center. \n",
    "\n",
    "thickness = int(input()) #This must be an odd number\n",
    "c = 'H'\n",
    "\n",
    "#Top Cone\n",
    "for i in range(thickness):\n",
    "    print((c*i).______(thickness-1)+c+(c*i).______(thickness-1))\n",
    "\n",
    "#Top Pillars\n",
    "for i in range(thickness+1):\n",
    "    print((c*thickness).______(thickness*2)+(c*thickness).______(thickness*6))\n",
    "\n",
    "#Middle Belt\n",
    "for i in range((thickness+1)//2):\n",
    "    print((c*thickness*5).______(thickness*6))    \n",
    "\n",
    "#Bottom Pillars\n",
    "for i in range(thickness+1):\n",
    "    print((c*thickness).______(thickness*2)+(c*thickness).______(thickness*6))    \n",
    "\n",
    "#Bottom Cone\n",
    "for i in range(thickness):\n",
    "    print(((c*(thickness-i-1)).______(thickness)+c+(c*(thickness-i-1)).______(thickness)).______(thickness*6))"
   ]
  },
  {
   "cell_type": "code",
   "execution_count": 32,
   "metadata": {},
   "outputs": [
    {
     "name": "stdout",
     "output_type": "stream",
     "text": [
      "['HackerRank.com', 'presents', \"'Pythonist\", \"2'\"]\n",
      "hACKERrANK.COM PRESENTS 'pYTHONIST 2'\n"
     ]
    }
   ],
   "source": [
    "s=\"HackerRank.com presents 'Pythonist 2'\"\n",
    "a = s.split()\n",
    "print(a)\n",
    "print(s.swapcase()) \n"
   ]
  },
  {
   "cell_type": "code",
   "execution_count": 33,
   "metadata": {},
   "outputs": [],
   "source": [
    "def swap_case(s):\n",
    "    result=s.swapcase() \n",
    "    return result"
   ]
  },
  {
   "cell_type": "code",
   "execution_count": 34,
   "metadata": {},
   "outputs": [
    {
     "name": "stdout",
     "output_type": "stream",
     "text": [
      "hACKERrANK.COM PRESENTS 'pYTHONIST 2'\n"
     ]
    }
   ],
   "source": [
    "s=\"HackerRank.com presents 'Pythonist 2'\"\n",
    "result = swap_case(s)\n",
    "print(result)"
   ]
  },
  {
   "cell_type": "code",
   "execution_count": 35,
   "metadata": {},
   "outputs": [
    {
     "name": "stdout",
     "output_type": "stream",
     "text": [
      "['A', 'A', 'B', 'C', 'A', 'A', 'A', 'D', 'A']\n"
     ]
    }
   ],
   "source": [
    "s=\"AABCAAADA\"\n",
    "\n",
    "b=list(s)\n",
    "print(b)\n",
    "k=3 \n",
    "b[:3]\n",
    "\n",
    "def merge_the_tools(s, k):\n",
    "    b=list(s)\n",
    "    result=\"\"\n",
    "    for i in range(len(b)):\n",
    "        a=b[:k]\n",
    "        if len(a)>0:\n",
    "            for j in range(len(a)):\n",
    "                if a[i]==a[i-1]:\n",
    "                    result=result+a[i]\n",
    "                else:\n",
    "                    result=result+a[i]+a[i-1]\n",
    "        b=a\n",
    "        \n",
    "    return result\n",
    "            \n",
    "            \n",
    "        \n",
    "        \n",
    "        "
   ]
  },
  {
   "cell_type": "code",
   "execution_count": 36,
   "metadata": {},
   "outputs": [
    {
     "name": "stdout",
     "output_type": "stream",
     "text": [
      "['A', 'C', 'H', 'K']\n",
      "AA\n",
      "AC\n",
      "AH\n",
      "AK\n",
      "CC\n",
      "CH\n",
      "CK\n",
      "HH\n",
      "HK\n",
      "KK\n"
     ]
    }
   ],
   "source": [
    "s=\"HACK\"\n",
    "n=2\n",
    "word=list(s)\n",
    "word.sort()\n",
    "print(word) \n",
    "len(word)\n",
    "result=\"\"\n",
    "for i in range(0,len(word)):\n",
    "    for j in range(i,len(word)):\n",
    "        result=word[i]+word[j]\n",
    "        \n",
    "        print(result)\n",
    "    "
   ]
  },
  {
   "cell_type": "code",
   "execution_count": 37,
   "metadata": {},
   "outputs": [
    {
     "name": "stdout",
     "output_type": "stream",
     "text": [
      "['G', 'N', 'O', 'R', 'W']\n",
      "GG\n",
      "GN\n",
      "GO\n",
      "GR\n",
      "GW\n",
      "NN\n",
      "NO\n",
      "NR\n",
      "NW\n",
      "OO\n",
      "OR\n",
      "OW\n",
      "RR\n",
      "RW\n",
      "WW\n"
     ]
    }
   ],
   "source": [
    "s=\"WRONG\"\n",
    "n=5\n",
    "word=list(s)\n",
    "word.sort()\n",
    "print(word) \n",
    "len(word)\n",
    "result=\"\"\n",
    "for i in range(0,len(word)):\n",
    "    \n",
    "    for j in range(i,len(word)):\n",
    "        \n",
    "        if len(result)< n+1:\n",
    "            \n",
    "            result = word[i]+ word[j]\n",
    "        \n",
    "                      \n",
    "        print(result)\n",
    "        "
   ]
  },
  {
   "cell_type": "code",
   "execution_count": 38,
   "metadata": {},
   "outputs": [
    {
     "name": "stdout",
     "output_type": "stream",
     "text": [
      "Nick is a professional Frankfurter\n",
      "He has been coding for 80 years\n",
      "Expert status: True\n",
      "Expert status: True\n"
     ]
    }
   ],
   "source": [
    "# Creates a variable with a string \"Frankfurter\"\n",
    "title = \"Frankfurter\"\n",
    "\n",
    "# Creates a variable with an integer 80\n",
    "years = 80\n",
    "\n",
    "# Creates a variable with the boolean value of True\n",
    "expert_status = True\n",
    "\n",
    "# Prints a statement adding the variable\n",
    "print(\"Nick is a professional \" + title)\n",
    "\n",
    "# Convert the integer years into a string and prints\n",
    "print(\"He has been coding for \" + str(years) + \" years\")\n",
    "\n",
    "# Converts a boolean into a string and prints\n",
    "print(\"Expert status: \" + str(expert_status))\n",
    "\n",
    "# An f-string accepts all data types without conversion\n",
    "print(f\"Expert status: {expert_status}\")\n"
   ]
  },
  {
   "cell_type": "code",
   "execution_count": 39,
   "metadata": {},
   "outputs": [
    {
     "name": "stdout",
     "output_type": "stream",
     "text": [
      "['Jacob', 25, 'Ahmed', 80]\n"
     ]
    }
   ],
   "source": [
    "# Create a variable and set it as an List\n",
    "myList = [\"Jacob\", 25, \"Ahmed\", 80]\n",
    "print(myList)"
   ]
  },
  {
   "cell_type": "code",
   "execution_count": 40,
   "metadata": {},
   "outputs": [
    {
     "name": "stdout",
     "output_type": "stream",
     "text": [
      "['Jacob', 25, 'Ahmed', 80, 'matt']\n"
     ]
    }
   ],
   "source": [
    "myList.append(\"matt\")\n",
    "print(myList)"
   ]
  },
  {
   "cell_type": "code",
   "execution_count": 41,
   "metadata": {},
   "outputs": [
    {
     "name": "stdout",
     "output_type": "stream",
     "text": [
      "4\n"
     ]
    }
   ],
   "source": [
    "print(myList.index(\"matt\"))"
   ]
  },
  {
   "cell_type": "code",
   "execution_count": 42,
   "metadata": {},
   "outputs": [
    {
     "name": "stdout",
     "output_type": "stream",
     "text": [
      "['Jacob', 30, 'Ahmed', 80, 'matt']\n"
     ]
    }
   ],
   "source": [
    "myList[1]=30\n",
    "print(myList)"
   ]
  },
  {
   "cell_type": "code",
   "execution_count": null,
   "metadata": {},
   "outputs": [],
   "source": [
    "print(len(myList))"
   ]
  },
  {
   "cell_type": "code",
   "execution_count": 43,
   "metadata": {},
   "outputs": [
    {
     "name": "stdout",
     "output_type": "stream",
     "text": [
      "['Jacob', 30, 'Ahmed', 80]\n"
     ]
    }
   ],
   "source": [
    "myList.remove(\"matt\")\n",
    "print(myList)"
   ]
  },
  {
   "cell_type": "code",
   "execution_count": 44,
   "metadata": {},
   "outputs": [
    {
     "name": "stdout",
     "output_type": "stream",
     "text": [
      "[30, 'Ahmed', 80]\n"
     ]
    }
   ],
   "source": [
    "myList.pop(0)\n",
    "print(myList)"
   ]
  },
  {
   "cell_type": "code",
   "execution_count": 45,
   "metadata": {},
   "outputs": [
    {
     "name": "stdout",
     "output_type": "stream",
     "text": [
      "('Python', 100, 'VBA', False)\n"
     ]
    }
   ],
   "source": [
    "myTuple=('Python',100,'VBA', False)\n",
    "print(myTuple)"
   ]
  },
  {
   "cell_type": "code",
   "execution_count": null,
   "metadata": {},
   "outputs": [],
   "source": [
    "12\n",
    "insert 0 5\n",
    "insert 1 10\n",
    "insert 0 6\n",
    "print\n",
    "remove 6\n",
    "append 9\n",
    "append 1\n",
    "sort\n",
    "print\n",
    "pop\n",
    "reverse\n",
    "print"
   ]
  },
  {
   "cell_type": "code",
   "execution_count": 46,
   "metadata": {},
   "outputs": [
    {
     "name": "stdout",
     "output_type": "stream",
     "text": [
      "[5, 2]\n",
      "[5, 10]\n",
      "[6, 10]\n",
      "[10]\n",
      "[10, 9]\n",
      "[10, 9, 1]\n",
      "[1, 9, 10]\n",
      "[1, 9]\n",
      "[9, 1]\n"
     ]
    }
   ],
   "source": [
    "i=0\n",
    "e=5\n",
    "mylist=[1,2]\n",
    "\n",
    "mylist[i]= e\n",
    "print(mylist)\n",
    "mylist[i+1]=10\n",
    "print(mylist)\n",
    "mylist[i]=6\n",
    "print(mylist)\n",
    "mylist.remove(6)\n",
    "print(mylist)\n",
    "mylist.append(9)\n",
    "print(mylist)\n",
    "mylist.append(1)\n",
    "print(mylist)\n",
    "mylist.sort()\n",
    "print(mylist)\n",
    "mylist.pop()\n",
    "print(mylist)\n",
    "mylist.reverse()\n",
    "print(mylist)"
   ]
  },
  {
   "cell_type": "code",
   "execution_count": 47,
   "metadata": {},
   "outputs": [
    {
     "name": "stdout",
     "output_type": "stream",
     "text": [
      "1\n"
     ]
    }
   ],
   "source": [
    "N = int(input())"
   ]
  },
  {
   "cell_type": "code",
   "execution_count": 48,
   "metadata": {},
   "outputs": [
    {
     "name": "stdout",
     "output_type": "stream",
     "text": [
      "1 2 nn\n"
     ]
    }
   ],
   "source": [
    "s = input().split()"
   ]
  },
  {
   "cell_type": "code",
   "execution_count": 51,
   "metadata": {},
   "outputs": [
    {
     "name": "stdout",
     "output_type": "stream",
     "text": [
      "2\n",
      "insert 0 3\n",
      "print\n",
      "[3]\n"
     ]
    }
   ],
   "source": [
    "N = int(input())\n",
    "arr = []\n",
    "for i in range(N):\n",
    "    s = input().split()\n",
    "    for i in range(1,len(s)):\n",
    "        s[i] = int(s[i])\n",
    "        \n",
    "    if s[0] == \"append\":\n",
    "        arr.append(s[1])\n",
    "    elif s[0] == \"extend\":\n",
    "        arr.extend(s[1])\n",
    "    elif s[0] == \"insert\":\n",
    "        arr.insert(s[1],s[2])\n",
    "    elif s[0] == \"remove\":\n",
    "        arr.remove(s[1])\n",
    "    elif s[0] == \"pop\":\n",
    "        arr.pop()\n",
    "    elif s[0] == \"index\":\n",
    "        print(arr.index(s[1]))\n",
    "    elif s[0] == \"count\":\n",
    "        print(arr.count(s[1]))\n",
    "    elif s[0] == \"sort\":\n",
    "        arr.sort()\n",
    "    elif s[0] == \"reverse\":\n",
    "        arr.reverse()\n",
    "    elif s[0] == \"print\":\n",
    "        print(arr)\n"
   ]
  },
  {
   "cell_type": "code",
   "execution_count": 53,
   "metadata": {},
   "outputs": [
    {
     "name": "stdout",
     "output_type": "stream",
     "text": [
      "2\n",
      "1 2\n",
      "3713081631934410656\n"
     ]
    }
   ],
   "source": [
    "n = int(input())\n",
    "integer_list = map(int, input().split())\n",
    "print(hash(tuple(integer_list)))"
   ]
  },
  {
   "cell_type": "code",
   "execution_count": 7,
   "metadata": {},
   "outputs": [
    {
     "name": "stdout",
     "output_type": "stream",
     "text": [
      "1\n",
      "1\n",
      "1\n",
      "2\n",
      "[[0, 0, 0], [0, 0, 1], [0, 1, 0], [1, 0, 0], [1, 1, 1]]\n"
     ]
    }
   ],
   "source": [
    "# List Comprehensions (for loop)\n",
    "x=int(input())\n",
    "y=int(input())\n",
    "z=int(input())\n",
    "n=int(input())\n",
    "arr=[]\n",
    "p=0\n",
    "for i in range(x+1):\n",
    "    for j in range(y+1):\n",
    "        for k in range(z+1):\n",
    "            if (i+j+k)!= n:\n",
    "                arr.append([])\n",
    "                arr[p] = [i,j,k]\n",
    "                p+= 1\n",
    "print(arr)                "
   ]
  },
  {
   "cell_type": "code",
   "execution_count": 15,
   "metadata": {},
   "outputs": [
    {
     "name": "stdout",
     "output_type": "stream",
     "text": [
      "1\n",
      "1\n",
      "1\n",
      "2\n",
      "[[0, 0, 0], [0, 0, 1], [0, 1, 0], [1, 0, 0], [1, 1, 1]]\n"
     ]
    }
   ],
   "source": [
    "# List Comprehensions\n",
    "x=int(input())\n",
    "y=int(input())\n",
    "z=int(input())\n",
    "n=int(input())\n",
    "arr=[]\n",
    "p=0\n",
    "print([[i,j,k] for i in range(x+1) for j in range(y+1) for k in range(z+1) if((i+j+k)!=n)])\n"
   ]
  },
  {
   "cell_type": "code",
   "execution_count": 1,
   "metadata": {},
   "outputs": [
    {
     "name": "stdout",
     "output_type": "stream",
     "text": [
      "5\n"
     ]
    }
   ],
   "source": [
    "arr=map(int, input().split())\n"
   ]
  },
  {
   "cell_type": "code",
   "execution_count": 9,
   "metadata": {},
   "outputs": [
    {
     "name": "stdout",
     "output_type": "stream",
     "text": [
      "5\n",
      "2 3 6 6 5\n",
      "5\n"
     ]
    }
   ],
   "source": [
    "#Find the Runner-Up Score!\n",
    "n = int(input())\n",
    "arr = list(map(int, input().split()))\n",
    "m1 = max(arr)\n",
    "m2 = -9999999999\n",
    "for i in range(n):\n",
    "    if arr[i] != m1 and arr[i] > m2:\n",
    "        m2 = arr[i]\n",
    "print(m2) "
   ]
  },
  {
   "cell_type": "code",
   "execution_count": 1,
   "metadata": {},
   "outputs": [
    {
     "name": "stdout",
     "output_type": "stream",
     "text": [
      "2\n",
      "ar\n",
      "72\n",
      "sh\n",
      "80\n"
     ]
    }
   ],
   "source": [
    "#Nested Lists\n",
    "\n",
    "for _ in range(int(input())):\n",
    "        name = input()\n",
    "        score = float(input())"
   ]
  },
  {
   "cell_type": "code",
   "execution_count": 37,
   "metadata": {},
   "outputs": [
    {
     "name": "stdout",
     "output_type": "stream",
     "text": [
      "3\n",
      "at\n",
      "10\n",
      "pp\n",
      "20\n",
      "aa\n",
      "10\n",
      "[['aa', 10.0], ['at', 10.0], ['pp', 20.0]]\n"
     ]
    }
   ],
   "source": [
    "mylist=[]\n",
    "p=0\n",
    "num=0\n",
    "for _ in range(int(input())):\n",
    "        name = input()\n",
    "        score = float(input())\n",
    "        mylist.append([name,score]) \n",
    "        mylist.sort()\n",
    "print(mylist)\n",
    "\n",
    "\n",
    "# for i in range(0,len(mylist)):\n",
    "#     if mylist[i][1] == mylist[i+1][1]:\n",
    "#         mylist[i][0].spli\n",
    "#         mylist[i][0].sort()\n",
    "#     print(mylist)\n",
    "#     else:        \n",
    "#         if mylist[i][1] > mylist[i+1][1]:\n",
    "#             num = mylist[i]\n",
    "#             mylist[i] = mylist[i+1]\n",
    "#             mylist[i+1]=num\n",
    "#         print(mylist)\n",
    "        "
   ]
  },
  {
   "cell_type": "code",
   "execution_count": 60,
   "metadata": {},
   "outputs": [
    {
     "name": "stdout",
     "output_type": "stream",
     "text": [
      "5\n",
      "h\n",
      "37\n",
      "{37.0: ['h']}\n",
      "b\n",
      "37\n",
      "{37.0: ['h', 'b']}\n",
      "t\n",
      "40\n",
      "{37.0: ['h', 'b'], 40.0: ['t']}\n",
      "ak\n",
      "36\n",
      "{37.0: ['h', 'b'], 40.0: ['t'], 36.0: ['ak']}\n",
      "ha\n",
      "45\n",
      "{37.0: ['h', 'b'], 40.0: ['t'], 36.0: ['ak'], 45.0: ['ha']}\n",
      "[[37.0, ['h', 'b']], [40.0, ['t']], [36.0, ['ak']], [45.0, ['ha']]]\n",
      "[[36.0, ['ak']], [37.0, ['h', 'b']], [40.0, ['t']], [45.0, ['ha']]]\n",
      "b\n",
      "h\n"
     ]
    }
   ],
   "source": [
    "# Nested Lists\n",
    "score_list = {}\n",
    "for _ in range(int(input())):\n",
    "    name = input()\n",
    "    score = float(input())\n",
    "    if score in score_list:\n",
    "        score_list[score].append(name)\n",
    "        print(score_list)\n",
    "    else:\n",
    "        score_list[score] = [name]\n",
    "        print(score_list)\n",
    "new_list = []\n",
    "for i in score_list:\n",
    "    new_list.append([i, score_list[i]])\n",
    "print(new_list)\n",
    "new_list.sort()\n",
    "print(new_list)\n",
    "# print(new_list.sort())\n",
    "result = new_list[1][1]\n",
    "result.sort()\n",
    "print(*result, sep = \"\\n\")"
   ]
  },
  {
   "cell_type": "code",
   "execution_count": 57,
   "metadata": {},
   "outputs": [
    {
     "name": "stdout",
     "output_type": "stream",
     "text": [
      "5\n",
      "h\n",
      "37\n",
      "b\n",
      "37\n",
      "t\n",
      "40\n",
      "ak\n",
      "36\n",
      "ha\n",
      "45\n",
      "b\n",
      "h\n"
     ]
    }
   ],
   "source": [
    "# # Nested Lists (hacker)\n",
    "if __name__ == '__main__':\n",
    "    # from __future__ import print_function\n",
    "    score_list = {}\n",
    "    for _ in range(int(input())):\n",
    "        name = input()\n",
    "        score = float(input())\n",
    "        if score in score_list:\n",
    "            score_list[score].append(name)\n",
    "        else:\n",
    "            score_list[score] = [name]\n",
    "    new_list = []\n",
    "    for i in score_list:\n",
    "        new_list.append([i, score_list[i]])\n",
    "    new_list.sort()\n",
    "    result = new_list[1][1]\n",
    "    result.sort()\n",
    "    print(*result, sep = \"\\n\")"
   ]
  },
  {
   "cell_type": "code",
   "execution_count": 8,
   "metadata": {},
   "outputs": [
    {
     "name": "stdout",
     "output_type": "stream",
     "text": [
      "3\n",
      "0k 67 68 69\n",
      "{'k': [67.0, 68.0, 69.0]}\n",
      "[67.0, 68.0, 69.0]\n",
      "1a 70 98 63\n",
      "{'k': [67.0, 68.0, 69.0], 'a': [70.0, 98.0, 63.0]}\n",
      "[70.0, 98.0, 63.0]\n",
      "2m 52 56 60\n",
      "{'k': [67.0, 68.0, 69.0], 'a': [70.0, 98.0, 63.0], 'm': [52.0, 56.0, 60.0]}\n",
      "[52.0, 56.0, 60.0]\n",
      "a\n",
      "[70.0, 98.0, 63.0]\n",
      "77.00\n"
     ]
    }
   ],
   "source": [
    "# Finding the percentage\n",
    "n = int(input())\n",
    "student_marks = {}\n",
    "add=0\n",
    "for i in range(n):\n",
    "    name, *line = input(i).split()\n",
    "    scores = list(map(float, line))\n",
    "    student_marks[name] = scores\n",
    "    print(student_marks)\n",
    "    print(scores)\n",
    "query_name = input()\n",
    "query_scores = student_marks[query_name]\n",
    "print(query_scores)\n",
    "print(\"{0:.2f}\".format(sum(query_scores)/(len(query_scores))))"
   ]
  },
  {
   "cell_type": "code",
   "execution_count": 10,
   "metadata": {},
   "outputs": [
    {
     "name": "stdout",
     "output_type": "stream",
     "text": [
      "3\n",
      "k 67 68 69\n",
      "a 70 98 63\n",
      "m 52 56 60\n",
      "m\n",
      "56.00\n"
     ]
    }
   ],
   "source": [
    "## Finding the average actually\n",
    "if __name__ == '__main__':\n",
    "    n = int(input())\n",
    "    student_marks = {}\n",
    "    for _ in range(n):\n",
    "        name, *line = input().split()\n",
    "        scores = list(map(float, line))\n",
    "        scores=sum(scores)/3\n",
    "        student_marks[name] = scores\n",
    "    query_name = input()    \n",
    "    print('%.2f' % student_marks[query_name])\n",
    "    "
   ]
  },
  {
   "cell_type": "code",
   "execution_count": 23,
   "metadata": {},
   "outputs": [],
   "source": [
    "import pandas as pd\n",
    "from pathlib import Path\n",
    "import matplotlib.pyplot as plt\n",
    "from sklearn.linear_model import LinearRegression\n",
    "import numpy as np"
   ]
  },
  {
   "cell_type": "code",
   "execution_count": 25,
   "metadata": {},
   "outputs": [
    {
     "name": "stdout",
     "output_type": "stream",
     "text": [
      "[20, 30, 40]\n",
      "[50000, 70000, 90000]\n"
     ]
    }
   ],
   "source": [
    "x=[20,30,40]\n",
    "y=[50000,70000,90000]\n",
    "print(x)\n",
    "print(y)"
   ]
  },
  {
   "cell_type": "code",
   "execution_count": 26,
   "metadata": {},
   "outputs": [
    {
     "data": {
      "image/png": "[encoded data removed]",
      "text/plain": [
       "<Figure size 432x288 with 1 Axes>"
      ]
     },
     "metadata": {
      "needs_background": "light"
     },
     "output_type": "display_data"
    }
   ],
   "source": [
    "plt.scatter(x,y)\n",
    "plt.xlabel('Years')\n",
    "plt.ylabel('Salary in USD')\n",
    "plt.show()"
   ]
  },
  {
   "cell_type": "code",
   "execution_count": 27,
   "metadata": {},
   "outputs": [],
   "source": [
    "model = LinearRegression()"
   ]
  },
  {
   "cell_type": "code",
   "execution_count": 31,
   "metadata": {},
   "outputs": [],
   "source": [
    "x = np.reshape(x,(-1, 1))"
   ]
  },
  {
   "cell_type": "code",
   "execution_count": 32,
   "metadata": {},
   "outputs": [
    {
     "data": {
      "text/plain": [
       "LinearRegression(copy_X=True, fit_intercept=True, n_jobs=None, normalize=False)"
      ]
     },
     "execution_count": 32,
     "metadata": {},
     "output_type": "execute_result"
    }
   ],
   "source": [
    "model.fit(x,y)"
   ]
  },
  {
   "cell_type": "code",
   "execution_count": 33,
   "metadata": {},
   "outputs": [
    {
     "name": "stdout",
     "output_type": "stream",
     "text": [
      "(3,)\n"
     ]
    }
   ],
   "source": [
    "y_pred = model.predict(x)\n",
    "print(y_pred.shape)"
   ]
  },
  {
   "cell_type": "code",
   "execution_count": 36,
   "metadata": {},
   "outputs": [
    {
     "data": {
      "image/png": "[encoded data removed]",
      "text/plain": [
       "<Figure size 432x288 with 1 Axes>"
      ]
     },
     "metadata": {
      "needs_background": "light"
     },
     "output_type": "display_data"
    }
   ],
   "source": [
    "plt.scatter(x, y)\n",
    "plt.plot(x, y_pred, color='red')\n",
    "plt.show()"
   ]
  },
  {
   "cell_type": "code",
   "execution_count": 37,
   "metadata": {},
   "outputs": [
    {
     "name": "stdout",
     "output_type": "stream",
     "text": [
      "[2000.]\n",
      "10000.000000000007\n"
     ]
    }
   ],
   "source": [
    "print(model.coef_)\n",
    "print(model.intercept_)"
   ]
  },
  {
   "cell_type": "code",
   "execution_count": 38,
   "metadata": {},
   "outputs": [
    {
     "name": "stdout",
     "output_type": "stream",
     "text": [
      "[2, 3, 4, 5, 6, 8]\n",
      "[7, 12, 11, 16, 15, 22]\n"
     ]
    }
   ],
   "source": [
    "x=[2,3,4,5,6,8]\n",
    "y=[7,12,11,16,15,22]\n",
    "print(x)\n",
    "print(y)"
   ]
  },
  {
   "cell_type": "code",
   "execution_count": 39,
   "metadata": {},
   "outputs": [
    {
     "data": {
      "image/png": "[encoded data removed]",
      "text/plain": [
       "<Figure size 432x288 with 1 Axes>"
      ]
     },
     "metadata": {
      "needs_background": "light"
     },
     "output_type": "display_data"
    }
   ],
   "source": [
    "plt.scatter(x,y)\n",
    "plt.xlabel('Years')\n",
    "plt.ylabel('Salary in USD')\n",
    "plt.show()"
   ]
  },
  {
   "cell_type": "code",
   "execution_count": 40,
   "metadata": {},
   "outputs": [],
   "source": [
    "model = LinearRegression()"
   ]
  },
  {
   "cell_type": "code",
   "execution_count": 41,
   "metadata": {},
   "outputs": [],
   "source": [
    "x = np.reshape(x,(-1, 1))"
   ]
  },
  {
   "cell_type": "code",
   "execution_count": 42,
   "metadata": {},
   "outputs": [
    {
     "data": {
      "text/plain": [
       "LinearRegression(copy_X=True, fit_intercept=True, n_jobs=None, normalize=False)"
      ]
     },
     "execution_count": 42,
     "metadata": {},
     "output_type": "execute_result"
    }
   ],
   "source": [
    "model.fit(x,y)"
   ]
  },
  {
   "cell_type": "code",
   "execution_count": 43,
   "metadata": {},
   "outputs": [
    {
     "name": "stdout",
     "output_type": "stream",
     "text": [
      "(6,)\n"
     ]
    }
   ],
   "source": [
    "y_pred = model.predict(x)\n",
    "print(y_pred.shape)"
   ]
  },
  {
   "cell_type": "code",
   "execution_count": 44,
   "metadata": {},
   "outputs": [
    {
     "name": "stdout",
     "output_type": "stream",
     "text": [
      "[2.25714286]\n",
      "3.3000000000000007\n"
     ]
    }
   ],
   "source": [
    "print(model.coef_)\n",
    "print(model.intercept_)"
   ]
  },
  {
   "cell_type": "code",
   "execution_count": 45,
   "metadata": {},
   "outputs": [
    {
     "data": {
      "image/png": "[encoded data removed]",
      "text/plain": [
       "<Figure size 432x288 with 1 Axes>"
      ]
     },
     "metadata": {
      "needs_background": "light"
     },
     "output_type": "display_data"
    }
   ],
   "source": [
    "plt.scatter(x, y)\n",
    "plt.plot(x, y_pred, color='red')\n",
    "plt.show()"
   ]
  },
  {
   "cell_type": "code",
   "execution_count": 6,
   "metadata": {},
   "outputs": [
    {
     "name": "stdout",
     "output_type": "stream",
     "text": [
      "6\n",
      "<feed xml:lang='en'>\n",
      "<title>HackerRank</title>\n",
      "<subtitle lang='en'>Programming challenges</subtitle>\n",
      "<link rel='alternate' type='text/html' href='http://hackerrank.com/'/>\n",
      "<updated>2013-12-25T12:00:00</updated>\n",
      "</feed>\n",
      "1\n"
     ]
    }
   ],
   "source": [
    "#XML2 - Find the Maximum Depth\n",
    "import xml.etree.ElementTree as etree\n",
    "\n",
    "maxdepth = 0\n",
    "def depth(elem, level):\n",
    "    global maxdepth\n",
    "    level += 1\n",
    "    if (maxdepth < level):\n",
    "        maxdepth = level\n",
    "    for child in elem:\n",
    "        depth(child, level)\n",
    "        \n",
    "if __name__ == '__main__':\n",
    "    n = int(input())\n",
    "    xml = \"\"\n",
    "    for i in range(n):\n",
    "        xml =  xml + input() + \"\\n\"\n",
    "    tree = etree.ElementTree(etree.fromstring(xml))\n",
    "    depth(tree.getroot(), -1)\n",
    "    print(maxdepth)"
   ]
  },
  {
   "cell_type": "code",
   "execution_count": 8,
   "metadata": {},
   "outputs": [
    {
     "name": "stdout",
     "output_type": "stream",
     "text": [
      "4\n",
      "<feed xml:lang='en'>\n",
      "<title>HackerRank</title>\n",
      "<updated>2013-12-25T12:00:00</updated>\n",
      "</feed>\n",
      "1\n"
     ]
    }
   ],
   "source": [
    "import xml.etree.ElementTree as etree\n",
    "\n",
    "maxdepth = 0\n",
    "def depth(elem, level):\n",
    "    global maxdepth\n",
    "    level +=1\n",
    "    if (maxdepth < level):\n",
    "        maxdepth=level\n",
    "    for child in elem:\n",
    "        depth(child, level)\n",
    "        \n",
    "if __name__ == '__main__':\n",
    "    n= int(input())\n",
    "    xml=\"\"\n",
    "    for i in range(n):\n",
    "        xml=xml+ input()+\"\\n\"\n",
    "    tree = etree.ElementTree(etree.fromstring(xml))\n",
    "    depth(tree.getroot(), -1)\n",
    "    print(maxdepth)"
   ]
  },
  {
   "cell_type": "code",
   "execution_count": null,
   "metadata": {},
   "outputs": [],
   "source": []
  },
  {
   "cell_type": "code",
   "execution_count": null,
   "metadata": {},
   "outputs": [],
   "source": []
  },
  {
   "cell_type": "code",
   "execution_count": null,
   "metadata": {},
   "outputs": [],
   "source": []
  },
  {
   "cell_type": "code",
   "execution_count": null,
   "metadata": {},
   "outputs": [],
   "source": []
  },
  {
   "cell_type": "code",
   "execution_count": null,
   "metadata": {},
   "outputs": [],
   "source": []
  }
 ],
 "metadata": {
  "kernelspec": {
   "display_name": "Python 3",
   "language": "python",
   "name": "python3"
  },
  "language_info": {
   "codemirror_mode": {
    "name": "ipython",
    "version": 3
   },
   "file_extension": ".py",
   "mimetype": "text/x-python",
   "name": "python",
   "nbconvert_exporter": "python",
   "pygments_lexer": "ipython3",
   "version": "3.7.6"
  }
 },
 "nbformat": 4,
 "nbformat_minor": 4
}

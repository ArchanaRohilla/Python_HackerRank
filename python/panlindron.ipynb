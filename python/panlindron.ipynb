{
 "cells": [
  {
   "cell_type": "code",
   "execution_count": null,
   "metadata": {},
   "outputs": [],
   "source": [
    "import pandas as pd\n"
   ]
  },
  {
   "cell_type": "code",
   "execution_count": null,
   "metadata": {},
   "outputs": [],
   "source": [
    "num = input(\"Enter the number : \")\n",
    "\n",
    "try:\n",
    "    number=int(num)\n",
    "    print(\"Input is an integer number. Number = \", number)\n",
    "    #fact=1\n",
    "    try:\n",
    "        if number>0:\n",
    "            fact=1\n",
    "            while number >0:\n",
    "                fact=fact*number\n",
    "                number=number-1\n",
    "            print(f\"The factorial is:{fact}\")\n",
    "            \n",
    "        elif number==0:\n",
    "            print(f\"factorial=1\")\n",
    "        else:\n",
    "            print(f\"negative number\")\n",
    "    except:\n",
    "        print(\"wrong input\")\n",
    "        \n",
    "except:\n",
    "    print(f\"Input is not an integer number.\")\n",
    "        "
   ]
  },
  {
   "cell_type": "code",
   "execution_count": 17,
   "metadata": {},
   "outputs": [],
   "source": [
    "def fact(numx):\n",
    "    try:\n",
    "        number=int(numx)\n",
    "        print(\"Input is an integer number. Number = \", number)\n",
    "    #fact=1\n",
    "        try:\n",
    "            if number>0:\n",
    "                fact=1\n",
    "                while number >0:\n",
    "                    fact=fact*number\n",
    "                    number=number-1\n",
    "                print(f\"The factorial is:{fact}\")\n",
    "\n",
    "            elif number==0:\n",
    "                \n",
    "                fact=\"factorial=1\"\n",
    "            else:\n",
    "                print(f\"negative number\")\n",
    "                fact=\"undefined\"\n",
    "        except:\n",
    "            print(\"wrong input\")\n",
    "            fact=\"undefined\"\n",
    "        \n",
    "    except:\n",
    "        print(f\"Input is not an integer number.\")\n",
    "        fact=\"undefined\"\n",
    "    \n",
    "    return fact\n"
   ]
  },
  {
   "cell_type": "code",
   "execution_count": 18,
   "metadata": {},
   "outputs": [
    {
     "name": "stdout",
     "output_type": "stream",
     "text": [
      "Enter the number : 0\n",
      "Input is an integer number. Number =  0\n",
      "factorial=1\n"
     ]
    }
   ],
   "source": [
    "num = input(\"Enter the number : \")\n",
    "answer= fact(num)\n",
    "print(answer)"
   ]
  },
  {
   "cell_type": "code",
   "execution_count": 12,
   "metadata": {},
   "outputs": [
    {
     "name": "stdout",
     "output_type": "stream",
     "text": [
      "16\n",
      "1 2 3 4 5 6 7 8 9 10 11 12 13 14 24 52\n",
      "4\n",
      "intersection_update 10\n",
      "2 3 5 6 8 9 1 4 7 11\n",
      "update 2\n",
      "55 66\n",
      "symmetric_difference_update 5\n",
      "22 7 35 62 58\n",
      "difference_update 7\n",
      "11 22 35 55 58 62 66\n",
      "38\n"
     ]
    }
   ],
   "source": [
    "_ = int(input())\n",
    "s1 = set(map(int, input().split()))\n",
    "N = int(input())\n",
    "\n",
    "for _ in range(N):\n",
    "    cmd, _ = input().split()\n",
    "    s2 = set(map(int, input().split()))\n",
    "    if(cmd == \"intersection_update\"):\n",
    "        s1.intersection_update(s2)\n",
    "    elif(cmd == \"update\"):\n",
    "        s1.update(s2)\n",
    "    elif(cmd == \"symmetric_difference_update\"):\n",
    "        s1.symmetric_difference_update(s2)\n",
    "    elif(cmd == \"difference_update\"):\n",
    "        s1.difference_update(s2)\n",
    "\n",
    "print(sum(s1))"
   ]
  },
  {
   "cell_type": "code",
   "execution_count": 13,
   "metadata": {},
   "outputs": [
    {
     "name": "stdout",
     "output_type": "stream",
     "text": [
      "16\n",
      "1 2 3 4 5 6 7 8 9 10 11 12 13 14 24 52\n",
      "4\n",
      "intersection_update 10\n",
      "2 3 5 6 8 9 1 4 7 11\n",
      "update 2\n",
      "55 66\n",
      "symmetric_difference_update 5\n",
      "22 7 35 62 58\n",
      "difference_update 7\n",
      "11 22 35 55 58 62 66\n",
      "38\n"
     ]
    }
   ],
   "source": [
    "# set mutations\n",
    "_ = int(input())\n",
    "set1 = set(map(int, input().split()))\n",
    "N = int(input())\n",
    "\n",
    "for _ in range(N):\n",
    "    cmd, _ = input().split()\n",
    "    set2 = set(map(int, input().split()))\n",
    "    if (cmd == \"intersection_update\"):\n",
    "        set1.intersection_update(set2)\n",
    "    elif (cmd == \"update\"):\n",
    "        set1.update(set2)\n",
    "    elif (cmd == \"symmetric_difference_update\"):\n",
    "        set1.symmetric_difference_update(set2)\n",
    "    elif (cmd == \"difference_update\"):\n",
    "        set1.difference_update(set2)\n",
    "        \n",
    "print(sum(set1))"
   ]
  },
  {
   "cell_type": "code",
   "execution_count": 2,
   "metadata": {},
   "outputs": [
    {
     "name": "stdout",
     "output_type": "stream",
     "text": [
      "5\n",
      "1 2 3 6 5 4 4 2 5 3 6 1 6 5 3 2 4 1 2 5 1 4 3 6 8 4 3 1 5 6 2 \n",
      "8\n"
     ]
    }
   ],
   "source": [
    "k  = int(input())\n",
    "rooms = list(map(int, input().split()))\n",
    "\n",
    "for room in rooms:\n",
    "    if rooms.count(room)==1:\n",
    "        print(room)"
   ]
  },
  {
   "cell_type": "code",
   "execution_count": 5,
   "metadata": {},
   "outputs": [
    {
     "name": "stdout",
     "output_type": "stream",
     "text": [
      "5\n",
      "1 2 3 6 5 4 4 2 5 3 6 1 6 5 3 2 4 1 2 5 1 4 3 6 8 4 3 1 5 6 2\n",
      "{1, 2, 3, 4, 5, 6, 8}\n",
      "29\n",
      "113\n",
      "8\n"
     ]
    }
   ],
   "source": [
    "# The Captain's Room\n",
    "k  = int(input())\n",
    "rooms = list(map(int, input().split()))\n",
    "myset = set(rooms)\n",
    "print(myset)\n",
    "print(sum(myset))\n",
    "print(sum(rooms))\n",
    "print(((sum(myset)*k)-(sum(rooms)))//(k-1))"
   ]
  },
  {
   "cell_type": "code",
   "execution_count": 1,
   "metadata": {},
   "outputs": [
    {
     "name": "stdout",
     "output_type": "stream",
     "text": [
      "3\n",
      "5\n",
      "1 2 3 5 6\n",
      "9\n",
      "9 8 5 6 3 2 1 4 7\n",
      "True\n",
      "1\n",
      "2\n",
      "5\n",
      "3 6 5 4 1\n",
      "False\n",
      "7\n",
      "1 2 3 5 6 8 9\n",
      "3\n",
      "9 8 2\n",
      "False\n"
     ]
    }
   ],
   "source": [
    "# Check Subset\n",
    "t = int(input())\n",
    "\n",
    "for i in range(t):\n",
    "    na = int(input())\n",
    "    A = set(map(int, input().split()))\n",
    "    nb = int(input())\n",
    "    B = set(map(int,input().split()))\n",
    "    print(A.issubset(B))"
   ]
  },
  {
   "cell_type": "code",
   "execution_count": 5,
   "metadata": {},
   "outputs": [
    {
     "name": "stdout",
     "output_type": "stream",
     "text": [
      "1 2 3 4 5 6 7 8 9 10 11 12 23 45 84 78\n",
      "2\n",
      "1 2 3 4 5\n",
      "100 11 12\n",
      "False\n"
     ]
    }
   ],
   "source": [
    "# Check Strict Superset\n",
    "A = set(map(int, input().split()))\n",
    "n = int(input())\n",
    "\n",
    "for i in range(n):\n",
    "    B = set(map(int, input().split()))\n",
    "    \n",
    "print(A.issuperset(B))"
   ]
  },
  {
   "cell_type": "code",
   "execution_count": 6,
   "metadata": {},
   "outputs": [
    {
     "name": "stdout",
     "output_type": "stream",
     "text": [
      "1 2 3 4 5 6 7 8 9 10 11 12 23 45 84 78\n",
      "2\n",
      "1 2 3 4 5\n",
      "100 11 12\n",
      "False\n"
     ]
    }
   ],
   "source": [
    "a = set(map(str, input().split(' ')))\n",
    "is_strict_superset = []\n",
    "for i in range(int(input())):\n",
    "     is_strict_superset.append(a.issuperset(set(map(str, input().split(' ')))))\n",
    "print(all(is_strict_superset))"
   ]
  },
  {
   "cell_type": "code",
   "execution_count": 7,
   "metadata": {},
   "outputs": [
    {
     "name": "stdout",
     "output_type": "stream",
     "text": [
      "1 2 3 4 5 6 7 8 9 10 11 12 23 45 84 78\n",
      "2\n",
      "1 2 3 4 5\n",
      "100 11 12\n",
      "False\n"
     ]
    }
   ],
   "source": [
    "a = set(input().split())\n",
    "print(all(a > set(input().split()) for _ in range(int(input()))))"
   ]
  },
  {
   "cell_type": "code",
   "execution_count": 12,
   "metadata": {},
   "outputs": [
    {
     "name": "stdout",
     "output_type": "stream",
     "text": [
      "1 4\n",
      "x**3 + x**2 + x + 1\n",
      "True\n"
     ]
    }
   ],
   "source": [
    "# Input()\n",
    "ul = input().split()\n",
    "x = int(ul[0])\n",
    "print(eval(input()) == int(ul[1]))"
   ]
  },
  {
   "cell_type": "code",
   "execution_count": 14,
   "metadata": {},
   "outputs": [
    {
     "name": "stdout",
     "output_type": "stream",
     "text": [
      "print(2 + 3)\n",
      "5\n"
     ]
    }
   ],
   "source": [
    "# Python Evaluation\n",
    "# The eval() expression is a very powerful built-in function of Python. It helps in evaluating \n",
    "# an expression. The expression can be a Python statement, or a code object.\n",
    "eval(input())"
   ]
  },
  {
   "cell_type": "code",
   "execution_count": 22,
   "metadata": {},
   "outputs": [
    {
     "name": "stdout",
     "output_type": "stream",
     "text": [
      "5 3\n",
      "10 2 5\n",
      "7 1 0\n",
      "9 9 9\n",
      "1 23 12\n",
      "6 5 9\n",
      "[[10, 2, 5], [7, 1, 0], [9, 9, 9], [1, 23, 12], [6, 5, 9]]\n",
      "1\n",
      "[[7, 1, 0], [10, 2, 5], [6, 5, 9], [9, 9, 9], [1, 23, 12]]\n",
      "7 1 0\n",
      "10 2 5\n",
      "6 5 9\n",
      "9 9 9\n",
      "1 23 12\n"
     ]
    }
   ],
   "source": [
    "# Athlete Sort\n",
    "from operator import itemgetter\n",
    "nm = input().split()\n",
    "\n",
    "n = int(nm[0])\n",
    "\n",
    "m = int(nm[1])\n",
    "\n",
    "arr = []\n",
    "    \n",
    "for _ in range(n):\n",
    "    arr.append(list(map(int, input().rstrip().split())))\n",
    "\n",
    "print(arr)\n",
    "\n",
    "k = int(input())\n",
    "\n",
    "print(sorted(arr, key=itemgetter(k)))\n",
    "\n",
    "for i in sorted(arr, key=itemgetter(k)):\n",
    "    print(*i)\n"
   ]
  },
  {
   "cell_type": "markdown",
   "metadata": {},
   "source": [
    "It’s safer to just unpack the sequence with the star operator (*) and let print() handle type casting:\n",
    "print(*['jdoe is', 42, 'years old'])\n",
    "jdoe is 42 years old"
   ]
  },
  {
   "cell_type": "code",
   "execution_count": 29,
   "metadata": {},
   "outputs": [
    {
     "name": "stdout",
     "output_type": "stream",
     "text": [
      "5\n",
      "12 9 61 5 14 \n",
      "['14', '5', '61', '9', '12']\n",
      "True\n"
     ]
    }
   ],
   "source": [
    "# Any or All\n",
    "n = input()\n",
    "mylist = input().split()\n",
    "print(mylist[::-1]) # print the list in reverse order\n",
    "print(all([int(i)>0 for i in mylist]) and any([j==j[::-1] for j in mylist]))      "
   ]
  },
  {
   "cell_type": "code",
   "execution_count": 54,
   "metadata": {},
   "outputs": [
    {
     "name": "stdout",
     "output_type": "stream",
     "text": [
      "Sorting1234\n",
      "ginortS1324\n"
     ]
    }
   ],
   "source": [
    "#ginortS (sorting the string as per the recommendation: lowercase->uppercase->odd digits->even digits)\n",
    "l,u,o,e=[],[],[],[]\n",
    "\n",
    "for i in sorted(input()):\n",
    "    if i.isalpha():\n",
    "        if i.isupper():\n",
    "            x = u\n",
    "        else:\n",
    "            x = l\n",
    "    else:\n",
    "        if int(float(i))%2==0:\n",
    "            x = e\n",
    "        else: \n",
    "            x = o\n",
    "    x.append(i)\n",
    "print(\"\".join(l+u+o+e))        "
   ]
  },
  {
   "cell_type": "code",
   "execution_count": 37,
   "metadata": {},
   "outputs": [
    {
     "name": "stdout",
     "output_type": "stream",
     "text": [
      "<built-in method index of str object at 0x000001F786A7A650>\n",
      "Sorting1234\n",
      "ginortS1324\n"
     ]
    }
   ],
   "source": [
    "#ginortS (sorting)\n",
    "myList = \"abcdefghijklmnopqrstuvwxyzABCDEFGHIJKLMNOPQRSTUVWXYZ1357902468\"\n",
    "print(*sorted(input(), key = myList.index), sep =\"\")"
   ]
  },
  {
   "cell_type": "code",
   "execution_count": 41,
   "metadata": {},
   "outputs": [
    {
     "name": "stdout",
     "output_type": "stream",
     "text": [
      "1256394\n"
     ]
    },
    {
     "data": {
      "text/plain": [
       "['1', '2', '3', '4', '5', '6', '9']"
      ]
     },
     "execution_count": 41,
     "metadata": {},
     "output_type": "execute_result"
    }
   ],
   "source": [
    "sorted(input())"
   ]
  },
  {
   "cell_type": "code",
   "execution_count": 97,
   "metadata": {},
   "outputs": [
    {
     "name": "stdout",
     "output_type": "stream",
     "text": [
      "hack 2\n",
      "2\n",
      "[('a',), ('c',), ('h',), ('k',)]\n",
      "('a',)\n",
      "a\n",
      "('c',)\n",
      "c\n",
      "('h',)\n",
      "h\n",
      "('k',)\n",
      "k\n",
      "[('a', 'c'), ('a', 'h'), ('a', 'k'), ('c', 'h'), ('c', 'k'), ('h', 'k')]\n",
      "('a', 'c')\n",
      "ac\n",
      "('a', 'h')\n",
      "ah\n",
      "('a', 'k')\n",
      "ak\n",
      "('c', 'h')\n",
      "ch\n",
      "('c', 'k')\n",
      "ck\n",
      "('h', 'k')\n",
      "hk\n"
     ]
    }
   ],
   "source": [
    "# itertools.combinations()\n",
    "from itertools import combinations\n",
    "sk=input().split()\n",
    "k=int(sk[1])\n",
    "print(k)\n",
    "for i in range(1,k+1):\n",
    "    sor=sorted(sk[0])\n",
    "    print(list(combinations(sor,i)))\n",
    "    for j in combinations(sor, i):\n",
    "        print(j)\n",
    "        print(''.join(j))        "
   ]
  },
  {
   "cell_type": "code",
   "execution_count": 101,
   "metadata": {},
   "outputs": [
    {
     "name": "stdout",
     "output_type": "stream",
     "text": [
      "a\n"
     ]
    }
   ],
   "source": [
    "j=('a',)\n",
    "print(''.join(j)) "
   ]
  },
  {
   "cell_type": "code",
   "execution_count": null,
   "metadata": {},
   "outputs": [],
   "source": [
    "from itertools import combinations\n",
    "\n",
    "s , n  = raw_input().split()\n",
    "\n",
    "for i in range(1, int(n)+1):\n",
    "    for j in combinations(sorted(s), i):\n",
    "        print ''.join(j)"
   ]
  },
  {
   "cell_type": "code",
   "execution_count": 110,
   "metadata": {},
   "outputs": [
    {
     "name": "stdout",
     "output_type": "stream",
     "text": [
      "hack 2\n",
      "2\n",
      "[('a', 'a'), ('a', 'c'), ('a', 'h'), ('a', 'k'), ('c', 'c'), ('c', 'h'), ('c', 'k'), ('h', 'h'), ('h', 'k'), ('k', 'k')]\n",
      "aa\n",
      "ac\n",
      "ah\n",
      "ak\n",
      "cc\n",
      "ch\n",
      "ck\n",
      "hh\n",
      "hk\n",
      "kk\n"
     ]
    }
   ],
   "source": [
    "# itertools.combinations_with_replacement()\n",
    "from itertools import combinations_with_replacement\n",
    "sk=input().split()\n",
    "k=int(sk[1])\n",
    "print(k)\n",
    "sor=sorted(sk[0])\n",
    "mylist=list(combinations_with_replacement(sor,k))\n",
    "print(mylist)\n",
    "for i in mylist:\n",
    "    print(''.join(i))   "
   ]
  },
  {
   "cell_type": "code",
   "execution_count": 14,
   "metadata": {},
   "outputs": [
    {
     "name": "stdout",
     "output_type": "stream",
     "text": [
      "111222111333\n",
      "(3, 1) (3, 2) (3, 1) (3, 3)\n"
     ]
    }
   ],
   "source": [
    "# Compress the String!\n",
    "\n",
    "from itertools import groupby\n",
    "print(*[(len(list(c)), int(k)) for k, c in groupby(input())])"
   ]
  },
  {
   "cell_type": "markdown",
   "metadata": {},
   "source": [
    "Basically I'm unpacking the list comprehension and printing each element of it.\n",
    "\n",
    "The list is built of elements of (len(list(c)), int(k)). len(list(c)) is simply the number of occurences of a character c returned by the groupby function. k is just the key value, the character itself."
   ]
  },
  {
   "cell_type": "code",
   "execution_count": null,
   "metadata": {},
   "outputs": [],
   "source": [
    "#Iterables and Iterators\n",
    "from itertools import combinations\n",
    "\n",
    "_,s,n = input(),input().split(),int(input())\n",
    "t = list(combinations(s,n))\n",
    "f = [i for i in t if 'a' in i]\n",
    "print(len(f)/len(t))"
   ]
  },
  {
   "cell_type": "code",
   "execution_count": 45,
   "metadata": {},
   "outputs": [
    {
     "name": "stdout",
     "output_type": "stream",
     "text": [
      "4\n",
      "a a c d\n",
      "2\n",
      "0.833\n"
     ]
    }
   ],
   "source": [
    "#Iterables and Iterators\n",
    "from itertools import combinations\n",
    "\n",
    "N = int(input())\n",
    "L = input().split()\n",
    "K = int(input())\n",
    "C = list(combinations(L, K))\n",
    "F = filter(lambda c: 'a' in c, C)\n",
    "\n",
    "print(\"{0:.3}\".format(len(list(F))/len(C)))"
   ]
  },
  {
   "cell_type": "code",
   "execution_count": 50,
   "metadata": {},
   "outputs": [
    {
     "name": "stdout",
     "output_type": "stream",
     "text": [
      "4\n",
      "a a c d\n",
      "2\n",
      "0.833\n"
     ]
    }
   ],
   "source": [
    "# Iterables and Iterators\n",
    "from itertools import combinations\n",
    "\n",
    "n = int(input())\n",
    "l = input().split()\n",
    "k = int(input())\n",
    "com = list(combinations(l,k))\n",
    "filtered = filter(lambda c: 'a' in c, com)\n",
    "\n",
    "print(\"{0:.3}\".format(len(list(filtered))/len(com)))"
   ]
  },
  {
   "cell_type": "code",
   "execution_count": 18,
   "metadata": {},
   "outputs": [
    {
     "name": "stdout",
     "output_type": "stream",
     "text": [
      "3 1000\n",
      "2 5 4\n",
      "5\n",
      "3 7 8 9 \n",
      "9\n",
      "5 5 7 8 9 10 \n",
      "10\n",
      "206\n"
     ]
    }
   ],
   "source": [
    "k,m = input().split()\n",
    "num = 1\n",
    "maxsum = 0\n",
    "for i in range(int(k)):\n",
    "    mylist = list(map(int,input().split()))\n",
    "    mylist.sort(reverse=True)\n",
    "    print(mylist[0])\n",
    "    for j in len(mylist):\n",
    "        maxsum = maxsum + mylist[0]*mylist[0]\n",
    "        result = maxsum % m\n",
    "    if \n",
    "print(maxsum)"
   ]
  },
  {
   "cell_type": "code",
   "execution_count": null,
   "metadata": {},
   "outputs": [],
   "source": [
    "3 1000\n",
    "2 5 4\n",
    "3 7 8 9 \n",
    "5 5 7 8 9 10 "
   ]
  },
  {
   "cell_type": "code",
   "execution_count": null,
   "metadata": {},
   "outputs": [],
   "source": [
    "from itertools import product\n",
    "\n",
    "K,M = map(int,input().split())\n",
    "N = (list(map(int, input().split()))[1:] for _ in range(K))\n",
    "\n",
    "results = map(lambda x: sum(i**2 for i in x)%M, product(*N))\n",
    "\n",
    "print(max(results))\n"
   ]
  },
  {
   "cell_type": "code",
   "execution_count": 20,
   "metadata": {},
   "outputs": [
    {
     "name": "stdout",
     "output_type": "stream",
     "text": [
      "3 1000\n",
      "<generator object <genexpr> at 0x0000018A0374CB48>\n",
      "2 5 4\n",
      "3 7 8 9 \n",
      "5 5 7 8 9 10 \n",
      "<map object at 0x0000018A01A30848>\n",
      "206\n"
     ]
    }
   ],
   "source": [
    "# Maximize It!\n",
    "from itertools import product\n",
    "\n",
    "k,m = map(int,input().split())\n",
    "n = (list(map(int, input().split()))[1:] for _ in range(k))\n",
    "\n",
    "results = map(lambda x: sum(i**2 for i in x)%m, product(*n))\n",
    "\n",
    "print(max(results))\n"
   ]
  },
  {
   "cell_type": "code",
   "execution_count": 1,
   "metadata": {},
   "outputs": [
    {
     "name": "stdout",
     "output_type": "stream",
     "text": [
      "2\n",
      "B1CD102354\n",
      "Invalid\n",
      "B1CDEF2354\n",
      "Valid\n"
     ]
    }
   ],
   "source": [
    "#Validating UID\n",
    "\n",
    "import re\n",
    "\n",
    "for _ in range(int(input())):\n",
    "    u = ''.join(sorted(input()))\n",
    "    try:\n",
    "        assert re.search(r'[A-Z]{2}', u)\n",
    "        assert re.search(r'\\d\\d\\d', u)\n",
    "        assert not re.search(r'[^a-zA-Z0-9]', u)\n",
    "        assert not re.search(r'(.)\\1', u)\n",
    "        assert len(u) == 10\n",
    "    except:\n",
    "        print('Invalid')\n",
    "    else:\n",
    "        print('Valid')\n"
   ]
  },
  {
   "cell_type": "code",
   "execution_count": 6,
   "metadata": {},
   "outputs": [
    {
     "name": "stdout",
     "output_type": "stream",
     "text": [
      "6\n",
      "4123456789123456\n",
      "Valid\n",
      "5123-4567-8912-3456\n",
      "Valid\n",
      "\n",
      "Invalid\n",
      "61234-567-8912-3456\n",
      "Invalid\n",
      "4123356789123456\n",
      "Valid\n",
      "5133-3367-8912-3456\n",
      "Invalid\n"
     ]
    }
   ],
   "source": [
    "# Validating Credit Card Numbers\n",
    "import re\n",
    "\n",
    "TESTER = re.compile(\n",
    "    r\"^\"\n",
    "    r\"(?!.*(\\d)(-?\\1){3})\"\n",
    "    r\"[456]\"\n",
    "    r\"\\d{3}\"\n",
    "    r\"(?:-?\\d{4}){3}\"\n",
    "    r\"$\")\n",
    "\n",
    "for _ in range(int(input().strip())):\n",
    "    print(\"Valid\" if TESTER.search(input().strip()) else \"Invalid\")\n"
   ]
  },
  {
   "cell_type": "code",
   "execution_count": 7,
   "metadata": {},
   "outputs": [
    {
     "name": "stdout",
     "output_type": "stream",
     "text": [
      "4\n",
      "5123 - 3567 - 8912 - 3456\n",
      "Invalid\n",
      "4123456789123456\n",
      "Valid\n",
      "5123-4567-8912-3456\n",
      "Valid\n",
      "5133-3367-8912-3456\n",
      "Invalid\n"
     ]
    }
   ],
   "source": [
    "# Validating Credit Card Numbers\n",
    "import re\n",
    "\n",
    "def check(card):\n",
    "    if not re.search(\"^[456]\\d{3}(-?\\d{4}){3}$\",card) or re.search(r\"(\\d)\\1{3}\", re.sub(\"-\", \"\",card)):\n",
    "        return False\n",
    "    return True\n",
    "\n",
    "for i in range(int(input())):\n",
    "    print(\"Valid\" if check(input()) else \"Invalid\")"
   ]
  },
  {
   "cell_type": "code",
   "execution_count": 11,
   "metadata": {},
   "outputs": [
    {
     "name": "stdout",
     "output_type": "stream",
     "text": [
      "1 2\n",
      "3 4\n",
      "(1, 3) (1, 4) (2, 3) (2, 4)\n"
     ]
    }
   ],
   "source": [
    "from itertools import product\n",
    "a = map(int,input().split())\n",
    "b = map(int,input().split())\n",
    "print(*list(product(a,b)))"
   ]
  },
  {
   "cell_type": "code",
   "execution_count": 17,
   "metadata": {},
   "outputs": [
    {
     "name": "stdout",
     "output_type": "stream",
     "text": [
      "HACK 2\n",
      "[('A', 'C'), ('A', 'H'), ('A', 'K'), ('C', 'A'), ('C', 'H'), ('C', 'K'), ('H', 'A'), ('H', 'C'), ('H', 'K'), ('K', 'A'), ('K', 'C'), ('K', 'H')]\n",
      "('A', 'C') ('A', 'H') ('A', 'K') ('C', 'A') ('C', 'H') ('C', 'K') ('H', 'A') ('H', 'C') ('H', 'K') ('K', 'A') ('K', 'C') ('K', 'H')\n",
      "['AC', 'AH', 'AK', 'CA', 'CH', 'CK', 'HA', 'HC', 'HK', 'KA', 'KC', 'KH']\n",
      "AC AH AK CA CH CK HA HC HK KA KC KH\n",
      "AC\n",
      "AH\n",
      "AK\n",
      "CA\n",
      "CH\n",
      "CK\n",
      "HA\n",
      "HC\n",
      "HK\n",
      "KA\n",
      "KC\n",
      "KH\n"
     ]
    }
   ],
   "source": [
    "from itertools import permutations\n",
    "s,k = input().split()\n",
    "print(list(permutations(sorted(s),int(k))))\n",
    "print(*list(permutations(sorted(s),int(k))))\n",
    "print([''.join(i) for i in permutations(sorted(s),int(k))],sep='\\n')\n",
    "print(*[''.join(i) for i in permutations(sorted(s),int(k))])\n",
    "print(*[''.join(i) for i in permutations(sorted(s),int(k))],sep='\\n')"
   ]
  },
  {
   "cell_type": "code",
   "execution_count": 5,
   "metadata": {},
   "outputs": [
    {
     "name": "stdout",
     "output_type": "stream",
     "text": [
      "4 3 2\n",
      "1 2\n",
      "1 2\n",
      "1 2\n",
      "1 2\n",
      "[[1 2]\n",
      " [1 2]\n",
      " [1 2]\n",
      " [1 2]]\n",
      "3 4\n",
      "3 4\n",
      "3 4\n",
      "[[3 4]\n",
      " [3 4]\n",
      " [3 4]]\n",
      "[[1 2]\n",
      " [1 2]\n",
      " [1 2]\n",
      " [1 2]\n",
      " [3 4]\n",
      " [3 4]\n",
      " [3 4]]\n"
     ]
    }
   ],
   "source": [
    "import numpy\n",
    "n,m,p=map(int,input().split())\n",
    "\n",
    "arr1=numpy.array([input().split() for _ in range(n)],int)   \n",
    "print(arr1)\n",
    "arr2=numpy.array([input().split() for _ in range(m)],int)\n",
    "print(arr2)\n",
    "\n",
    "print(numpy.concatenate((arr1, arr2), axis = 0)) "
   ]
  },
  {
   "cell_type": "code",
   "execution_count": 4,
   "metadata": {},
   "outputs": [
    {
     "name": "stdout",
     "output_type": "stream",
     "text": [
      "3 3 3\n",
      "[[0 0 0]\n",
      " [0 0 0]\n",
      " [0 0 0]]\n",
      "[[0 0 0]\n",
      " [0 0 0]\n",
      " [0 0 0]]\n",
      "[[0 0 0]\n",
      " [0 0 0]\n",
      " [0 0 0]]\n",
      "[[1 1 1]\n",
      " [1 1 1]\n",
      " [1 1 1]]\n",
      "[[1 1 1]\n",
      " [1 1 1]\n",
      " [1 1 1]]\n",
      "[[1 1 1]\n",
      " [1 1 1]\n",
      " [1 1 1]]\n"
     ]
    }
   ],
   "source": [
    "#Zeros and Ones\n",
    "import numpy\n",
    "a,b,c=map(int,input().split())\n",
    "\n",
    "print(numpy.zeros((a,a), dtype = numpy.int))\n",
    "print(numpy.zeros((b,b), dtype = numpy.int))\n",
    "print(numpy.zeros((c,c), dtype = numpy.int))\n",
    "\n",
    "print(numpy.ones((a,a), dtype = numpy.int))\n",
    "print(numpy.ones((b,b), dtype = numpy.int))\n",
    "print(numpy.ones((c,c), dtype = numpy.int))"
   ]
  },
  {
   "cell_type": "code",
   "execution_count": 5,
   "metadata": {},
   "outputs": [
    {
     "name": "stdout",
     "output_type": "stream",
     "text": [
      "3 3 3\n",
      "[[[0 0 0]\n",
      "  [0 0 0]\n",
      "  [0 0 0]]\n",
      "\n",
      " [[0 0 0]\n",
      "  [0 0 0]\n",
      "  [0 0 0]]\n",
      "\n",
      " [[0 0 0]\n",
      "  [0 0 0]\n",
      "  [0 0 0]]]\n",
      "[[[1 1 1]\n",
      "  [1 1 1]\n",
      "  [1 1 1]]\n",
      "\n",
      " [[1 1 1]\n",
      "  [1 1 1]\n",
      "  [1 1 1]]\n",
      "\n",
      " [[1 1 1]\n",
      "  [1 1 1]\n",
      "  [1 1 1]]]\n"
     ]
    }
   ],
   "source": [
    "#Zeros and Ones\n",
    "import numpy\n",
    "nums = tuple(map(int,input().split()))\n",
    "print(numpy.zeros(nums, dtype = numpy.int))\n",
    "print(numpy.ones(nums, dtype = numpy.int))"
   ]
  },
  {
   "cell_type": "code",
   "execution_count": 19,
   "metadata": {},
   "outputs": [
    {
     "name": "stdout",
     "output_type": "stream",
     "text": [
      "3 3\n",
      "[[1. 0. 0.]\n",
      " [0. 1. 0.]\n",
      " [0. 0. 1.]]\n"
     ]
    }
   ],
   "source": [
    "import numpy\n",
    "n,m = map(int,input().split())\n",
    "print(numpy.eye(n, m, k = 0))"
   ]
  },
  {
   "cell_type": "code",
   "execution_count": 20,
   "metadata": {},
   "outputs": [
    {
     "name": "stdout",
     "output_type": "stream",
     "text": [
      "3 3\n",
      "[[ 1.  0.  0.]\n",
      " [ 0.  1.  0.]\n",
      " [ 0.  0.  1.]]\n"
     ]
    }
   ],
   "source": [
    "print(str(numpy.eye(*map(int,input().split()))).replace('1',' 1').replace('0',' 0'))"
   ]
  },
  {
   "cell_type": "code",
   "execution_count": 7,
   "metadata": {},
   "outputs": [
    {
     "name": "stdout",
     "output_type": "stream",
     "text": [
      "7\n",
      "UK\n",
      "China\n",
      "USA\n",
      "France\n",
      "New Zealand\n",
      "UK\n",
      "France \n",
      "5\n"
     ]
    }
   ],
   "source": [
    "#Set .add()\n",
    "n = int(input())\n",
    "stamps = set()\n",
    "for _ in range(n):\n",
    "    stamps.add(input().strip())\n",
    "        \n",
    "print(len(stamps))\n"
   ]
  },
  {
   "cell_type": "code",
   "execution_count": 16,
   "metadata": {},
   "outputs": [
    {
     "name": "stdout",
     "output_type": "stream",
     "text": [
      "9\n",
      "1 2 3 4 5 6 7 8 9\n",
      "10\n",
      "pop\n",
      "{2, 3, 4, 5, 6, 7, 8, 9}\n",
      "remove 9\n",
      "{2, 3, 4, 5, 6, 7, 8}\n",
      "discard 9\n",
      "{2, 3, 4, 5, 6, 7, 8}\n",
      "discard 8\n",
      "{2, 3, 4, 5, 6, 7}\n",
      "remove 7\n",
      "{2, 3, 4, 5, 6}\n",
      "pop \n",
      "{3, 4, 5, 6}\n",
      "discard 6\n",
      "{3, 4, 5}\n",
      "remove 5\n",
      "{3, 4}\n",
      "pop \n",
      "{4}\n",
      "discard 5\n",
      "{4}\n",
      "4\n"
     ]
    }
   ],
   "source": [
    "#Set .discard(), .remove() & .pop()\n",
    "\n",
    "n = int(input())\n",
    "s = set([int(x) for x in input().strip().split()])\n",
    "\n",
    "for _ in range(int(input())):\n",
    "    com = list(input().strip().split())\n",
    "               \n",
    "    if com[0] == \"pop\":\n",
    "        s.pop()\n",
    "    elif com[0] == \"discard\":\n",
    "        s.discard(int(com[1]))\n",
    "    else:\n",
    "        s.remove(int(com[1]))\n",
    "        \n",
    "    print(s)\n",
    "              \n",
    "print(sum(s))"
   ]
  },
  {
   "cell_type": "code",
   "execution_count": 4,
   "metadata": {},
   "outputs": [
    {
     "name": "stdout",
     "output_type": "stream",
     "text": [
      "2\n",
      "1 2\n",
      "3 \n",
      "1 3 4\n",
      "{'2', '4', '1', '3'}\n",
      "4\n"
     ]
    }
   ],
   "source": [
    "n=int(input())\n",
    "eng=set(input().split())\n",
    "b=int(input())\n",
    "fre=set(input().split())\n",
    "print(eng|fre)\n",
    "print(len(eng|fre))"
   ]
  },
  {
   "cell_type": "code",
   "execution_count": 5,
   "metadata": {},
   "outputs": [
    {
     "name": "stdout",
     "output_type": "stream",
     "text": [
      "2\n",
      "1 2\n",
      "3 \n",
      "1 3 4\n",
      "{'1'}\n",
      "1\n"
     ]
    }
   ],
   "source": [
    "n=int(input())\n",
    "eng=set(input().split())\n",
    "b=int(input())\n",
    "fre=set(input().split())\n",
    "print(eng & fre)\n",
    "print(len(eng & fre))"
   ]
  },
  {
   "cell_type": "code",
   "execution_count": 6,
   "metadata": {},
   "outputs": [
    {
     "name": "stdout",
     "output_type": "stream",
     "text": [
      "2\n",
      "1 2\n",
      "3\n",
      "1 3 4\n",
      "{'2'}\n",
      "1\n"
     ]
    }
   ],
   "source": [
    "n=int(input())\n",
    "eng=set(input().split())\n",
    "b=int(input())\n",
    "fre=set(input().split())\n",
    "print(eng - fre)\n",
    "print(len(eng - fre))"
   ]
  },
  {
   "cell_type": "code",
   "execution_count": 8,
   "metadata": {},
   "outputs": [
    {
     "name": "stdout",
     "output_type": "stream",
     "text": [
      "2 \n",
      "1 2\n",
      "3\n",
      "1 3 4\n",
      "{'2', '4', '3'}\n",
      "3\n"
     ]
    }
   ],
   "source": [
    "n=int(input())\n",
    "eng=set(input().split())\n",
    "b=int(input())\n",
    "fre=set(input().split())\n",
    "print(eng^fre)\n",
    "print(len(eng^fre))"
   ]
  },
  {
   "cell_type": "code",
   "execution_count": 1,
   "metadata": {},
   "outputs": [
    {
     "name": "stdout",
     "output_type": "stream",
     "text": [
      "2\n",
      "1 2\n",
      "3\n",
      "1 2 3\n",
      "3\n"
     ]
    }
   ],
   "source": [
    "n=int(input())\n",
    "eng=set(input().split())\n",
    "b=int(input())\n",
    "fre=set(input().split())\n",
    "# print(eng|fre)\n",
    "print(len(eng|fre))\n"
   ]
  },
  {
   "cell_type": "code",
   "execution_count": 3,
   "metadata": {},
   "outputs": [
    {
     "name": "stdout",
     "output_type": "stream",
     "text": [
      "3\n",
      "4\n",
      "5\n",
      "81\n",
      "1\n"
     ]
    }
   ],
   "source": [
    "a=int(input())\n",
    "b=int(input())\n",
    "m=int(input())\n",
    "print(pow(a,b))\n",
    "print(pow(a,b,m))"
   ]
  },
  {
   "cell_type": "code",
   "execution_count": 4,
   "metadata": {},
   "outputs": [
    {
     "name": "stdout",
     "output_type": "stream",
     "text": [
      "9\n",
      "29\n",
      "7\n",
      "27\n",
      "4710128697246244834921603689\n",
      "65712362363534280139543\n",
      "4710194409608608369201743232\n"
     ]
    }
   ],
   "source": [
    "a=int(input())\n",
    "b=int(input())\n",
    "c=int(input())\n",
    "d=int(input())\n",
    "s1=pow(a,b)\n",
    "print(s1)\n",
    "s2=pow(c,d)\n",
    "print(s2)\n",
    "print(s1+s2)"
   ]
  },
  {
   "cell_type": "code",
   "execution_count": 9,
   "metadata": {},
   "outputs": [
    {
     "name": "stdout",
     "output_type": "stream",
     "text": [
      "5\n",
      "1\n",
      "22\n",
      "333\n",
      "4444\n"
     ]
    }
   ],
   "source": [
    "for i in range(1,int(input())): #More than 2 lines will result in 0 score. Do not leave a blank line also\n",
    "    print((10**(i)//9)*i)\n",
    "    "
   ]
  },
  {
   "cell_type": "code",
   "execution_count": 11,
   "metadata": {},
   "outputs": [
    {
     "name": "stdout",
     "output_type": "stream",
     "text": [
      "1 2\n"
     ]
    }
   ],
   "source": [
    "n,m = input().split()"
   ]
  },
  {
   "cell_type": "code",
   "execution_count": 14,
   "metadata": {},
   "outputs": [
    {
     "name": "stdout",
     "output_type": "stream",
     "text": [
      "7 3\n",
      "Tsi\n",
      "h%x\n",
      "i #\n",
      "sM \n",
      "$a \n",
      "#t%\n",
      "ir!\n",
      "This is Matrix#  %!\n"
     ]
    }
   ],
   "source": [
    "import math\n",
    "import os\n",
    "import random\n",
    "import re\n",
    "import sys\n",
    "\n",
    "\n",
    "first_multiple_input = input().rstrip().split()\n",
    "\n",
    "n = int(first_multiple_input[0])\n",
    "\n",
    "m = int(first_multiple_input[1])\n",
    "\n",
    "matrix = []\n",
    "\n",
    "for _ in range(n):\n",
    "    matrix_item = input()\n",
    "    matrix.append(matrix_item)    \n",
    "    \n",
    "encoded_string = \"\".join([matrix[j][i] for i in range (m) for j in range (n)])\n",
    "pat = r'(?<=[a-zA-Z0-9])[^a-zA-Z0-9]+(?=[a-zA-Z0-9])'\n",
    "print(re.sub(pat,' ',encoded_string))\n"
   ]
  },
  {
   "cell_type": "code",
   "execution_count": 18,
   "metadata": {},
   "outputs": [
    {
     "name": "stdout",
     "output_type": "stream",
     "text": [
      "10\n",
      "161 182 161 154 176 170 167 171 170 174\n",
      "169.375\n"
     ]
    }
   ],
   "source": [
    "n = int(input())\n",
    "s = set([int(x) for x in input().strip().split()])\n",
    "avg= sum(s)/len(s)\n",
    "print(avg)"
   ]
  },
  {
   "cell_type": "code",
   "execution_count": 19,
   "metadata": {},
   "outputs": [
    {
     "name": "stdout",
     "output_type": "stream",
     "text": [
      "10\n",
      "161 182 161 154 176 170 167 171 170 174\n",
      "169.375\n"
     ]
    }
   ],
   "source": [
    "def average(array):\n",
    "    # your code goes here    \n",
    "    return sum(set(array))/len(set(array))\n",
    "if __name__ == '__main__':\n",
    "    n = int(input())\n",
    "    arr = list(map(int, input().split()))\n",
    "    result = average(arr)\n",
    "    print(result)"
   ]
  },
  {
   "cell_type": "code",
   "execution_count": 1,
   "metadata": {},
   "outputs": [
    {
     "name": "stdout",
     "output_type": "stream",
     "text": [
      "177\n",
      "10\n",
      "17\n",
      "7\n",
      "(17, 7)\n"
     ]
    }
   ],
   "source": [
    "a = int(input())\n",
    "b = int(input())\n",
    "print(a//b)\n",
    "print(a%b)\n",
    "print(divmod(a,b))"
   ]
  },
  {
   "cell_type": "code",
   "execution_count": 16,
   "metadata": {},
   "outputs": [
    {
     "name": "stdout",
     "output_type": "stream",
     "text": [
      "1 2 3 4 5 6 7 8 9\n",
      "[[1 2 3]\n",
      " [4 5 6]\n",
      " [7 8 9]]\n"
     ]
    }
   ],
   "source": [
    "import numpy as np\n",
    "print(np.array(input().split(),int).reshape(3,3))"
   ]
  },
  {
   "cell_type": "code",
   "execution_count": 25,
   "metadata": {},
   "outputs": [
    {
     "name": "stdout",
     "output_type": "stream",
     "text": [
      "2 2\n",
      "1 2\n",
      "3 4\n",
      "[[1 3]\n",
      " [2 4]]\n",
      "[1 2 3 4]\n"
     ]
    }
   ],
   "source": [
    "import numpy\n",
    "n,m = map(int,input().split())\n",
    "array1=numpy.array([input().strip().split() for _ in range(n)],int)\n",
    "    \n",
    "print(array1.transpose())\n",
    "print(array1.flatten())"
   ]
  },
  {
   "cell_type": "code",
   "execution_count": 28,
   "metadata": {},
   "outputs": [
    {
     "name": "stdout",
     "output_type": "stream",
     "text": [
      "1 4\n",
      "1 2 3 4\n",
      "5 6 7 8\n",
      "[[ 6  8 10 12]]\n",
      "[[-4 -4 -4 -4]]\n",
      "[[ 5 12 21 32]]\n",
      "[[0 0 0 0]]\n",
      "[[1 2 3 4]]\n",
      "[[    1    64  2187 65536]]\n"
     ]
    }
   ],
   "source": [
    "import numpy\n",
    "n,m = map(int,input().split())\n",
    "a = numpy.array([input().strip().split() for _ in range(n)],int)\n",
    "b =numpy.array([input().strip().split() for _ in range(n)],int)\n",
    "print(numpy.add(a, b))\n",
    "print(numpy.subtract(a, b))\n",
    "print(numpy.multiply(a, b))\n",
    "print(a//b)\n",
    "print(numpy.mod(a, b))\n",
    "print(numpy.power(a, b))"
   ]
  },
  {
   "cell_type": "code",
   "execution_count": 33,
   "metadata": {},
   "outputs": [
    {
     "name": "stdout",
     "output_type": "stream",
     "text": [
      "1.1 2.2 3.3 4.4 5.5 6.6 7.7 8.8 9.9\n",
      "[ 1.  2.  3.  4.  5.  6.  7.  8.  9.]\n",
      "[  2.   3.   4.   5.   6.   7.   8.   9.  10.]\n",
      "[  1.   2.   3.   4.   6.   7.   8.   9.  10.]\n"
     ]
    }
   ],
   "source": [
    "numpy.set_printoptions(sign=' ')\n",
    "\n",
    "my_array = numpy.array(input().strip().split(),float)\n",
    "print(numpy.floor(my_array))\n",
    "print(numpy.ceil(my_array))\n",
    "print(numpy.rint(my_array))"
   ]
  },
  {
   "cell_type": "code",
   "execution_count": 35,
   "metadata": {},
   "outputs": [
    {
     "name": "stdout",
     "output_type": "stream",
     "text": [
      "2 2\n",
      "1 2\n",
      "3 4\n",
      "24\n"
     ]
    }
   ],
   "source": [
    "import numpy\n",
    "n,m = map(int,input().split())\n",
    "array1 = numpy.array([input().strip().split() for _ in range(n)],int)\n",
    "array2 = numpy.sum(array1, axis = 0)\n",
    "print(numpy.prod(array2))"
   ]
  },
  {
   "cell_type": "code",
   "execution_count": 1,
   "metadata": {},
   "outputs": [
    {
     "name": "stdout",
     "output_type": "stream",
     "text": [
      "4 2\n",
      "2 5\n",
      "3 7\n",
      "1 3\n",
      "4 0\n",
      "3\n"
     ]
    }
   ],
   "source": [
    "# Min and Max\n",
    "import numpy\n",
    "n,m = map(int,input().split())\n",
    "array1 = numpy.array([input().strip().split() for _ in range(n)],int)\n",
    "array2 = numpy.min(array1, axis = 1)\n",
    "print(numpy.max(array2))"
   ]
  },
  {
   "cell_type": "code",
   "execution_count": 3,
   "metadata": {},
   "outputs": [
    {
     "name": "stdout",
     "output_type": "stream",
     "text": [
      "2 2\n",
      "1 2\n",
      "3 4\n",
      "[ 1.5  3.5]\n",
      "[ 1.  1.]\n",
      "1.11803398875\n"
     ]
    }
   ],
   "source": [
    "# Mean, Var, and Std\n",
    "import numpy\n",
    "numpy.set_printoptions(legacy='1.13')\n",
    "n,m = map(int,input().split())\n",
    "array1 = numpy.array([input().strip().split() for _ in range(n)],int)\n",
    "print(numpy.mean(array1, axis = 1))\n",
    "print(numpy.var(array1, axis = 0))\n",
    "print(numpy.std(array1))"
   ]
  },
  {
   "cell_type": "code",
   "execution_count": 2,
   "metadata": {},
   "outputs": [
    {
     "name": "stdout",
     "output_type": "stream",
     "text": [
      "2\n",
      "1 2\n",
      "3 4\n",
      "1 2\n",
      "3 4\n",
      "[[ 7 10]\n",
      " [15 22]]\n"
     ]
    }
   ],
   "source": [
    " # Dot and Cross\n",
    "import numpy\n",
    "n = int(input())\n",
    "A = numpy.array([input().strip().split() for _ in range(n)],int)\n",
    "B = numpy.array([input().strip().split() for _ in range(n)],int)\n",
    "print(numpy.dot(A, B))"
   ]
  },
  {
   "cell_type": "code",
   "execution_count": 9,
   "metadata": {},
   "outputs": [
    {
     "name": "stdout",
     "output_type": "stream",
     "text": [
      "0 1\n",
      "2 3\n",
      "3\n",
      "[[0 0]\n",
      " [2 3]]\n"
     ]
    }
   ],
   "source": [
    "#Inner and Outer\n",
    "import numpy\n",
    "A = numpy.array(input().strip().split(),int)\n",
    "B = numpy.array(input().strip().split(),int)\n",
    "print(numpy.inner(A,B))\n",
    "print(numpy.outer(A,B))"
   ]
  },
  {
   "cell_type": "code",
   "execution_count": null,
   "metadata": {},
   "outputs": [],
   "source": []
  },
  {
   "cell_type": "code",
   "execution_count": null,
   "metadata": {},
   "outputs": [],
   "source": []
  },
  {
   "cell_type": "code",
   "execution_count": null,
   "metadata": {},
   "outputs": [],
   "source": []
  },
  {
   "cell_type": "code",
   "execution_count": null,
   "metadata": {},
   "outputs": [],
   "source": []
  },
  {
   "cell_type": "code",
   "execution_count": null,
   "metadata": {},
   "outputs": [],
   "source": []
  },
  {
   "cell_type": "code",
   "execution_count": null,
   "metadata": {},
   "outputs": [],
   "source": []
  },
  {
   "cell_type": "code",
   "execution_count": null,
   "metadata": {},
   "outputs": [],
   "source": []
  }
 ],
 "metadata": {
  "kernelspec": {
   "display_name": "PythonData",
   "language": "python",
   "name": "pythondata"
  },
  "language_info": {
   "codemirror_mode": {
    "name": "ipython",
    "version": 3
   },
   "file_extension": ".py",
   "mimetype": "text/x-python",
   "name": "python",
   "nbconvert_exporter": "python",
   "pygments_lexer": "ipython3",
   "version": "3.7.6"
  }
 },
 "nbformat": 4,
 "nbformat_minor": 4
}
